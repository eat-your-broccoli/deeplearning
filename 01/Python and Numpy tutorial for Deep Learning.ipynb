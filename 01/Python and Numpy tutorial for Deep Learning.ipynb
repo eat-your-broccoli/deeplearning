{
 "cells": [
  {
   "cell_type": "markdown",
   "metadata": {},
   "source": [
    "# Python and Numpy tutorial for Deep Learning"
   ]
  },
  {
   "cell_type": "markdown",
   "metadata": {},
   "source": [
    "(by: [Ruben Nuredini](mailto:ruben.nuredini@hs-heilbronn.de), Heilbronn University, Germany, September 2018) "
   ]
  },
  {
   "cell_type": "markdown",
   "metadata": {},
   "source": [
    "## 0 - Jupyter Notebooks"
   ]
  },
  {
   "cell_type": "markdown",
   "metadata": {},
   "source": [
    "* You are reading this line in a Jupyter Notebook.\n",
    "* A notebook consists of cells. A cell can contain either rich text elements (paragraph, equations, figures, links, etc…) or code (like the next cell). \n",
    "* You can __run a cell__ with code by selecting it (click) and pressing `Ctrl + Enter` to execute the code and display output(if any).\n",
    "* Jupyter notebooks are  If you're running this on a device with no keyboard, use topbar (esp. play/stop/restart buttons) to run code.\n",
    "* Behind the curtains, there's a Python interpreter that runs that code and remembers anything you defined.\n",
    "* Some helpful features include:\n",
    "    * Top menu -> Kernel -> Interrupt (or Stop button) if you want it to stop running cell midway.\n",
    "    * Top menu -> Kernel -> Restart (or cyclic arrow button) if interrupt doesn't fix the problem (you will lose all variables).\n",
    "    * if you're typing something, press `Tab` to see automatic suggestions, use arrow keys + enter to pick one.\n",
    "    * if you move your cursor inside some function and press `__Shift + Tab__`, you'll get a help window. `Shift + (Tab , Tab)` will expand it.\n",
    "* For a summary of the Markdown elements that are supported by Jupyter Notebooks refer to [this](https://notebook.community/tschinz/iPython_Workspace/00_Admin/CheatSheet/Markdown%20CheatSheet) cheatsheet.\n",
    "* For more information please refer to the official [documentation](https://jupyter-notebook.readthedocs.io/en/stable/).\n",
    "    * the [\"Beginners Guide\"](https://jupyter-notebook-beginner-guide.readthedocs.io/en/latest/what_is_jupyter.html) or the [\"Hacker's guide\"](http://arogozhnikov.github.io/2016/09/10/jupyter-features.html) can be quite helpful.\n",
    "* In this notebook i borrowed from [1]. \n",
    "\n",
    "Run these cells to get started"
   ]
  },
  {
   "cell_type": "code",
   "execution_count": 1,
   "metadata": {},
   "outputs": [],
   "source": [
    "x = 7"
   ]
  },
  {
   "cell_type": "code",
   "execution_count": 2,
   "metadata": {},
   "outputs": [
    {
     "name": "stdout",
     "output_type": "stream",
     "text": [
      "49\n"
     ]
    }
   ],
   "source": [
    "print (x**2)"
   ]
  },
  {
   "cell_type": "markdown",
   "metadata": {},
   "source": [
    "## 1 - NumPy"
   ]
  },
  {
   "cell_type": "markdown",
   "metadata": {},
   "source": [
    "NumPy is the fundamental package for scientific computing with Python. It includes a powerful N-dimensional array object as well as linear algebra and random number capabilities that are useful for data science. NumPy also provides sophisticated (broadcasting) functions out-of-the box. NumPy is maintained by a large community (www.numpy.org). Any time you need more info on a numpy function, we encourage you to look at [the official documentation](https://docs.scipy.org/doc/numpy/).\n",
    "\n",
    "As NumPy and is a library, it has to be included using the `import` keyword."
   ]
  },
  {
   "cell_type": "code",
   "execution_count": 3,
   "metadata": {},
   "outputs": [],
   "source": [
    "import numpy as np"
   ]
  },
  {
   "cell_type": "markdown",
   "metadata": {},
   "source": [
    "### 1.1 - Basic data structures with NumPy"
   ]
  },
  {
   "cell_type": "markdown",
   "metadata": {},
   "source": [
    "NumPy provides a very convenient way to create N-dimensional arrays. The data structures used in NumPy to represent these shapes (vectors, matrices...) are called numpy arrays.\n",
    "\n",
    "### 1.1 - Manual creation of NumPy vectors and matrices\n",
    "\n",
    "Let us create two one-dimensional arrays (vectors) each with 6 elements."
   ]
  },
  {
   "cell_type": "code",
   "execution_count": 4,
   "metadata": {},
   "outputs": [],
   "source": [
    "X = np.array([[5, 1, 4, 2, 6, 0]], dtype=np.double) # the dtype parameter can be used to define the type of the array elements.\n",
    "Y = np.array([1., 2., 3., 4., 5., 6.]) # if the dtype parameter is omitted Python deduces the elements type."
   ]
  },
  {
   "cell_type": "code",
   "execution_count": 5,
   "metadata": {},
   "outputs": [
    {
     "name": "stdout",
     "output_type": "stream",
     "text": [
      "[[5. 1. 4. 2. 6. 0.]]\n",
      "[1. 2. 3. 4. 5. 6.]\n"
     ]
    }
   ],
   "source": [
    "print (X)\n",
    "print (Y)"
   ]
  },
  {
   "cell_type": "markdown",
   "metadata": {},
   "source": [
    "Let us check the type of X."
   ]
  },
  {
   "cell_type": "code",
   "execution_count": 6,
   "metadata": {},
   "outputs": [
    {
     "data": {
      "text/plain": [
       "numpy.ndarray"
      ]
     },
     "execution_count": 6,
     "metadata": {},
     "output_type": "execute_result"
    }
   ],
   "source": [
    "type(X)"
   ]
  },
  {
   "cell_type": "markdown",
   "metadata": {},
   "source": [
    "A very common NumPy function used in machine learning is [np.shape](https://docs.scipy.org/doc/numpy/reference/generated/numpy.ndarray.shape.html). It is used to get the shape (dimension) of the matrix/vector X and Y."
   ]
  },
  {
   "cell_type": "code",
   "execution_count": 7,
   "metadata": {},
   "outputs": [
    {
     "name": "stdout",
     "output_type": "stream",
     "text": [
      "(1, 6)\n",
      "(6,)\n"
     ]
    }
   ],
   "source": [
    "print (X.shape)\n",
    "print (Y.shape)"
   ]
  },
  {
   "cell_type": "markdown",
   "metadata": {},
   "source": [
    "**Important notice**:\n",
    "- the type of a regular Python array is `list` whereas of a NumPy array is `numpy.ndarray`\n",
    "- Make sure that you keep track of the dimensions of the data structures you create with NumPy.\n",
    "- Many bugs in deep learning implementations are caused by improper shapes.\n",
    "- A good practice is to define one-dimensional arrays in a full-fledged way (the way X was created)."
   ]
  },
  {
   "cell_type": "markdown",
   "metadata": {},
   "source": [
    "Transposing data structures with [np.T](https://docs.scipy.org/doc/numpy/reference/generated/numpy.ndarray.T.html) is another common function in NumPy used in deep learning. Pay attention on what happens when we try to transpose the vector Y."
   ]
  },
  {
   "cell_type": "code",
   "execution_count": 8,
   "metadata": {},
   "outputs": [],
   "source": [
    "X_transposed = X.T\n",
    "Y_transposed = Y.T"
   ]
  },
  {
   "cell_type": "code",
   "execution_count": 9,
   "metadata": {},
   "outputs": [
    {
     "name": "stdout",
     "output_type": "stream",
     "text": [
      "[[5.]\n",
      " [1.]\n",
      " [4.]\n",
      " [2.]\n",
      " [6.]\n",
      " [0.]]\n",
      "[1. 2. 3. 4. 5. 6.]\n"
     ]
    }
   ],
   "source": [
    "print (X_transposed)\n",
    "print (Y_transposed)"
   ]
  },
  {
   "cell_type": "code",
   "execution_count": 10,
   "metadata": {},
   "outputs": [
    {
     "data": {
      "text/plain": [
       "(6, 1)"
      ]
     },
     "execution_count": 10,
     "metadata": {},
     "output_type": "execute_result"
    }
   ],
   "source": [
    "X_transposed.shape"
   ]
  },
  {
   "cell_type": "markdown",
   "metadata": {},
   "source": [
    "Let us create a two-dimensional matrix of shape 6x6."
   ]
  },
  {
   "cell_type": "code",
   "execution_count": 11,
   "metadata": {},
   "outputs": [
    {
     "name": "stdout",
     "output_type": "stream",
     "text": [
      "[[3. 0. 1. 2. 7. 4.]\n",
      " [1. 5. 8. 9. 3. 1.]\n",
      " [2. 7. 2. 5. 1. 3.]\n",
      " [0. 1. 3. 1. 7. 8.]\n",
      " [4. 2. 1. 6. 2. 8.]\n",
      " [2. 4. 5. 2. 3. 9.]]\n"
     ]
    }
   ],
   "source": [
    "Z = np.array([[3, 0, 1, 2, 7, 4], \n",
    "              [1, 5, 8, 9, 3, 1], \n",
    "              [2, 7, 2, 5, 1, 3], \n",
    "              [0, 1, 3, 1, 7, 8], \n",
    "              [4, 2, 1, 6, 2, 8], \n",
    "              [2, 4, 5, 2, 3, 9]], np.double)\n",
    "print (Z)"
   ]
  },
  {
   "cell_type": "code",
   "execution_count": 12,
   "metadata": {},
   "outputs": [
    {
     "name": "stdout",
     "output_type": "stream",
     "text": [
      "(6, 6)\n",
      "6\n"
     ]
    }
   ],
   "source": [
    "print (Z.shape) # the first dimension of Z is now 6.\n",
    "print (Z.shape[0]) # each dimension of a multidimensional array can be obtained separately."
   ]
  },
  {
   "cell_type": "markdown",
   "metadata": {},
   "source": [
    "You can also create NumPy arrays in higher dimensions. Let us create a 3-D NumPy array."
   ]
  },
  {
   "cell_type": "code",
   "execution_count": 13,
   "metadata": {},
   "outputs": [],
   "source": [
    "highDimArray = np.array([\n",
    "    [[0.00, 0.01, 0.02],\n",
    "     [0.10, 0.11, 0.12],\n",
    "     [0.20, 0.21, 0.22]],\n",
    "    \n",
    "    [[1.00, 1.01, 1.02], \n",
    "     [1.10, 1.11, 1.12],\n",
    "     [1.20, 1.21, 1.22]],\n",
    "    \n",
    "    [[2.00, 2.01, 2.02], \n",
    "     [2.10, 2.11, 2.12],\n",
    "     [2.20, 2.21, 2.22]]\n",
    "])"
   ]
  },
  {
   "cell_type": "code",
   "execution_count": 14,
   "metadata": {},
   "outputs": [
    {
     "data": {
      "text/plain": [
       "(3, 3, 3)"
      ]
     },
     "execution_count": 14,
     "metadata": {},
     "output_type": "execute_result"
    }
   ],
   "source": [
    "highDimArray.shape"
   ]
  },
  {
   "cell_type": "markdown",
   "metadata": {},
   "source": [
    "Accessing elements in a multidimensional array is by using its indices."
   ]
  },
  {
   "cell_type": "code",
   "execution_count": 15,
   "metadata": {},
   "outputs": [
    {
     "data": {
      "text/plain": [
       "array([[0.  , 0.01, 0.02],\n",
       "       [0.1 , 0.11, 0.12],\n",
       "       [0.2 , 0.21, 0.22]])"
      ]
     },
     "execution_count": 15,
     "metadata": {},
     "output_type": "execute_result"
    }
   ],
   "source": [
    "highDimArray[0] #using one index returns a 2-D NumPy array."
   ]
  },
  {
   "cell_type": "code",
   "execution_count": 16,
   "metadata": {},
   "outputs": [
    {
     "data": {
      "text/plain": [
       "array([1.  , 1.01, 1.02])"
      ]
     },
     "execution_count": 16,
     "metadata": {},
     "output_type": "execute_result"
    }
   ],
   "source": [
    "highDimArray[1, 0] #using two indices returns a 1-D NumPy array."
   ]
  },
  {
   "cell_type": "code",
   "execution_count": 17,
   "metadata": {},
   "outputs": [
    {
     "data": {
      "text/plain": [
       "2.21"
      ]
     },
     "execution_count": 17,
     "metadata": {},
     "output_type": "execute_result"
    }
   ],
   "source": [
    "highDimArray[2, 2, 1] #three indices result with a scalar value."
   ]
  },
  {
   "cell_type": "markdown",
   "metadata": {},
   "source": [
    "### 1.2 - Initialization of NumPy vectors and matrices"
   ]
  },
  {
   "cell_type": "markdown",
   "metadata": {},
   "source": [
    "A very convenient functions for quick initialization of NumPy arrays are:\n",
    "- [np.zeros](https://docs.scipy.org/doc/numpy/reference/generated/numpy.zeros.html) that returns a new array of given shape and type, filled with zeros.\n",
    "- [np.random.rand](https://docs.scipy.org/doc/numpy/reference/generated/numpy.random.rand.html) that creates an array of the given shape and populate it with random samples from a uniform distribution over $[0, 1)$\n",
    "\n",
    "These functions are very useful when it comes to the initialization of the parameters (weights and biases) in a neural network:\n",
    "- the weight matrices $(W^{[1]}, W^{[2]}, W^{[3]}, ..., W^{[L-1]}, W^{[L]})$ should be initialized randomly to break symmetry.\n",
    "- the bias vectors $(b^{[1]}, b^{[2]}, b^{[3]}, ..., b^{[L-1]}, b^{[L]})$ are usually initialized to zeros.\n",
    "\n",
    "\n"
   ]
  },
  {
   "cell_type": "markdown",
   "metadata": {},
   "source": [
    "#### 1.2.1 - Zero initialization\n",
    "A typical usage of `np.zeros` is as follows"
   ]
  },
  {
   "cell_type": "code",
   "execution_count": 18,
   "metadata": {},
   "outputs": [
    {
     "data": {
      "text/plain": [
       "array([[[0., 0., 0., 0., 0., 0.],\n",
       "        [0., 0., 0., 0., 0., 0.],\n",
       "        [0., 0., 0., 0., 0., 0.],\n",
       "        [0., 0., 0., 0., 0., 0.],\n",
       "        [0., 0., 0., 0., 0., 0.]],\n",
       "\n",
       "       [[0., 0., 0., 0., 0., 0.],\n",
       "        [0., 0., 0., 0., 0., 0.],\n",
       "        [0., 0., 0., 0., 0., 0.],\n",
       "        [0., 0., 0., 0., 0., 0.],\n",
       "        [0., 0., 0., 0., 0., 0.]]])"
      ]
     },
     "execution_count": 18,
     "metadata": {},
     "output_type": "execute_result"
    }
   ],
   "source": [
    "np.zeros((2, 5, 6))"
   ]
  },
  {
   "cell_type": "markdown",
   "metadata": {},
   "source": [
    "Let us say that the $L$-th layer in a neural network consists of 10 neurons. Each of them is associated with a bias. In order to initialize the `b_L` vector to zeros we could use:"
   ]
  },
  {
   "cell_type": "code",
   "execution_count": 19,
   "metadata": {},
   "outputs": [
    {
     "name": "stdout",
     "output_type": "stream",
     "text": [
      "[[0.]\n",
      " [0.]\n",
      " [0.]\n",
      " [0.]\n",
      " [0.]\n",
      " [0.]\n",
      " [0.]\n",
      " [0.]\n",
      " [0.]\n",
      " [0.]]\n"
     ]
    }
   ],
   "source": [
    "layer_L_dims = 10\n",
    "b_L = np.zeros((layer_L_dims, 1))\n",
    "print (b_L)"
   ]
  },
  {
   "cell_type": "markdown",
   "metadata": {},
   "source": [
    "#### 1.2.2 - Random Initialization "
   ]
  },
  {
   "cell_type": "markdown",
   "metadata": {},
   "source": [
    "A typical usage of `np.random.rand` is as follows"
   ]
  },
  {
   "cell_type": "code",
   "execution_count": 20,
   "metadata": {},
   "outputs": [
    {
     "data": {
      "text/plain": [
       "array([[0.78869575, 0.92307072, 0.52504289, 0.64360177],\n",
       "       [0.55508253, 0.92442002, 0.83031463, 0.61487091],\n",
       "       [0.70929518, 0.8467801 , 0.25313698, 0.08574912],\n",
       "       [0.06234029, 0.81044249, 0.1254077 , 0.96574311],\n",
       "       [0.95871841, 0.29405852, 0.28037549, 0.00883567],\n",
       "       [0.76017028, 0.55156384, 0.63025639, 0.42268649],\n",
       "       [0.67254863, 0.28676178, 0.81011961, 0.45240917]])"
      ]
     },
     "execution_count": 20,
     "metadata": {},
     "output_type": "execute_result"
    }
   ],
   "source": [
    "np.random.rand(7, 4)"
   ]
  },
  {
   "cell_type": "markdown",
   "metadata": {},
   "source": [
    "The usage of an equal seed makes sure your \"random\" numbers will be the same as ours. Running the code several times gives you always the same values."
   ]
  },
  {
   "cell_type": "code",
   "execution_count": 21,
   "metadata": {
    "scrolled": true
   },
   "outputs": [
    {
     "data": {
      "text/plain": [
       "array([[0.89286015, 0.33197981, 0.82122912],\n",
       "       [0.04169663, 0.10765668, 0.59505206],\n",
       "       [0.52981736, 0.41880743, 0.33540785],\n",
       "       [0.62251943, 0.43814143, 0.73588211]])"
      ]
     },
     "execution_count": 21,
     "metadata": {},
     "output_type": "execute_result"
    }
   ],
   "source": [
    "np.random.seed(6) \n",
    "np.random.rand(4, 3)"
   ]
  },
  {
   "cell_type": "markdown",
   "metadata": {},
   "source": [
    "#### 1.2.2.1 - (OPTIONAL) Random Initialization of Neural Network Weights"
   ]
  },
  {
   "attachments": {
    "c1e47d29-1a4e-47e2-822a-6a28bb49a36a.png": {
     "image/png": "[encoded data removed]"
    }
   },
   "cell_type": "markdown",
   "metadata": {},
   "source": [
    "Let us say that we define the dimensions of a fully connected feed-forward neural network as a python array. Our sample network is as follows:\n",
    "\n",
    "![grafik.png](attachment:c1e47d29-1a4e-47e2-822a-6a28bb49a36a.png)\n",
    "\n",
    "The network consists of:\n",
    "- input layer with 6 neurons\n",
    "- first hidden layer with 4 neurons\n",
    "- second hidden layer with 3 neurons\n",
    "- output layer of 1 neuron\n",
    "- a bias unit for each of the layers (except the output layer)"
   ]
  },
  {
   "cell_type": "code",
   "execution_count": 22,
   "metadata": {},
   "outputs": [],
   "source": [
    "# this defines a network structure consisting of 6-neuron input layer,\n",
    "# 1-neuron outpit layer and 2 hidden layers each consisting of 4 and 3 neurons respectively.\n",
    "layer_dims = [6, 4, 3, 1]"
   ]
  },
  {
   "cell_type": "markdown",
   "metadata": {},
   "source": [
    "In this case there are 3 matrices of weights with the sizes:\n",
    "- `W1.shape = (4, 6)`\n",
    "- `W2.shape = (3, 4)`\n",
    "- `W3.shape = (1, 3)`"
   ]
  },
  {
   "cell_type": "markdown",
   "metadata": {},
   "source": [
    "The following function is used to initialize the weights to random values. "
   ]
  },
  {
   "cell_type": "code",
   "execution_count": 23,
   "metadata": {},
   "outputs": [],
   "source": [
    "def initialize_parameters_random(layer_dims):\n",
    "    \"\"\"\n",
    "    Arguments:\n",
    "    layer_dims -- python array (list) containing the size of each layer.\n",
    "    \n",
    "    Returns:\n",
    "    parameters -- python dictionary containing your parameters \"W1\", \"b1\", ..., \"WL\", \"bL\":\n",
    "                    W1 -- weight matrix of shape (layers_dims[1], layers_dims[0])\n",
    "                    b1 -- bias vector of shape (layers_dims[1], 1)\n",
    "                    ...\n",
    "                    WL -- weight matrix of shape (layers_dims[L], layers_dims[L-1])\n",
    "                    bL -- bias vector of shape (layers_dims[L], 1)\n",
    "    \"\"\"\n",
    "    \n",
    "    np.random.seed(3)               # For testing purposes - make sure that the results are the \"expected\"\n",
    "    parameters = {}\n",
    "    L = len(layer_dims)            # integer representing the number of layers\n",
    "    \n",
    "    for l in range(1, L):\n",
    "        parameters['W' + str(l)] = np.random.randn(layer_dims[l], layer_dims[l-1])\n",
    "        parameters['b' + str(l)] = np.zeros((layer_dims[l], 1))\n",
    "\n",
    "    return parameters"
   ]
  },
  {
   "cell_type": "code",
   "execution_count": 24,
   "metadata": {},
   "outputs": [
    {
     "name": "stdout",
     "output_type": "stream",
     "text": [
      "W1 = [[ 1.78862847  0.43650985  0.09649747 -1.8634927  -0.2773882  -0.35475898]\n",
      " [-0.08274148 -0.62700068 -0.04381817 -0.47721803 -1.31386475  0.88462238]\n",
      " [ 0.88131804  1.70957306  0.05003364 -0.40467741 -0.54535995 -1.54647732]\n",
      " [ 0.98236743 -1.10106763 -1.18504653 -0.2056499   1.48614836  0.23671627]]\n",
      "b1 = [[0.]\n",
      " [0.]\n",
      " [0.]\n",
      " [0.]]\n",
      "W2 = [[-1.02378514 -0.7129932   0.62524497 -0.16051336]\n",
      " [-0.76883635 -0.23003072  0.74505627  1.97611078]\n",
      " [-1.24412333 -0.62641691 -0.80376609 -2.41908317]]\n",
      "b2 = [[0.]\n",
      " [0.]\n",
      " [0.]]\n",
      "W3 = [[-0.92379202 -1.02387576  1.12397796]]\n",
      "b3 = [[0.]]\n"
     ]
    }
   ],
   "source": [
    "parameters = initialize_parameters_random([6,4,3,1])\n",
    "print(\"W1 = \" + str(parameters[\"W1\"]))\n",
    "print(\"b1 = \" + str(parameters[\"b1\"]))\n",
    "print(\"W2 = \" + str(parameters[\"W2\"]))\n",
    "print(\"b2 = \" + str(parameters[\"b2\"]))\n",
    "print(\"W3 = \" + str(parameters[\"W3\"]))\n",
    "print(\"b3 = \" + str(parameters[\"b3\"]))"
   ]
  },
  {
   "cell_type": "markdown",
   "metadata": {},
   "source": [
    "#### 1.2.3 - He and Xavier initialization\n",
    "\n",
    "In real world applications it is usual to use He or Xavier initialization of the parameters in a neural network:\n",
    "\n",
    "- \"Xavier initialization\" uses a scaling factor for the weights $W^{[l]}$ of `sqrt(1./layers_dims[l-1])`\n",
    "- \"He Initialization\" uses a scaling factor for the weights $W^{[l]}$ of `sqrt(2./layers_dims[l-1])`[2]\n",
    "\n",
    "**Task**: Implement the following function to initialize your parameters with He initialization. The only difference is that you will multiply the `np.random.randn(..,..)` by $\\sqrt{\\frac{2}{\\text{dimension of the previous layer}}}$, which is what He initialization recommends for layers with a ReLU activation (dont worry, we will discuss the different activation functions in the following section)."
   ]
  },
  {
   "cell_type": "code",
   "execution_count": 25,
   "metadata": {},
   "outputs": [],
   "source": [
    "def initialize_parameters_he(layer_dims):\n",
    "    \"\"\"\n",
    "    Arguments:\n",
    "    layer_dims -- python array (list) containing the size of each layer.\n",
    "    \n",
    "    Returns:\n",
    "    parameters -- python dictionary containing your parameters \"W1\", \"b1\", ..., \"WL\", \"bL\":\n",
    "                    W1 -- weight matrix of shape (layers_dims[1], layers_dims[0])\n",
    "                    b1 -- bias vector of shape (layers_dims[1], 1)\n",
    "                    ...\n",
    "                    WL -- weight matrix of shape (layers_dims[L], layers_dims[L-1])\n",
    "                    bL -- bias vector of shape (layers_dims[L], 1)\n",
    "    \"\"\"\n",
    "    \n",
    "    np.random.seed(3)\n",
    "    parameters = {}\n",
    "    L = len(layer_dims) - 1 # integer representing the number of layers\n",
    "     \n",
    "    for l in range(1, L + 1):\n",
    "        He_init = np.sqrt(2./layer_dims[l-1]) # double representing He Initialisation factor\n",
    "        parameters['W' + str(l)] = np.random.randn(layer_dims[l], layer_dims[l-1]) * He_init #random array scaled by He Init factor\n",
    "        parameters['b' + str(l)] = np.zeros((layer_dims[l], 1)) # bias params stay zeros\n",
    "\n",
    "    return parameters"
   ]
  },
  {
   "cell_type": "code",
   "execution_count": 26,
   "metadata": {},
   "outputs": [
    {
     "name": "stdout",
     "output_type": "stream",
     "text": [
      "W1 = [[ 1.03266513  0.25201908  0.05571284 -1.07588801 -0.16015015 -0.20482019]\n",
      " [-0.04777082 -0.36199901 -0.02529843 -0.27552196 -0.75856017  0.51073697]\n",
      " [ 0.50882921  0.98702247  0.02888694 -0.23364061 -0.31486371 -0.89285909]\n",
      " [ 0.5671701  -0.63570169 -0.68418693 -0.11873202  0.85802815  0.1366682 ]]\n",
      "b1 = [[0.]\n",
      " [0.]\n",
      " [0.]\n",
      " [0.]]\n",
      "W2 = [[-0.72392541 -0.50416233  0.44211496 -0.11350009]\n",
      " [-0.5436494  -0.16265628  0.52683434  1.39732134]\n",
      " [-0.87972804 -0.44294365 -0.56834846 -1.71055012]]\n",
      "b2 = [[0.]\n",
      " [0.]\n",
      " [0.]]\n",
      "W3 = [[-0.75427303 -0.83599106  0.91772416]]\n",
      "b3 = [[0.]]\n"
     ]
    }
   ],
   "source": [
    "parameters = initialize_parameters_he(layer_dims)\n",
    "print(\"W1 = \" + str(parameters[\"W1\"]))\n",
    "print(\"b1 = \" + str(parameters[\"b1\"]))\n",
    "print(\"W2 = \" + str(parameters[\"W2\"]))\n",
    "print(\"b2 = \" + str(parameters[\"b2\"]))\n",
    "print(\"W3 = \" + str(parameters[\"W3\"]))\n",
    "print(\"b3 = \" + str(parameters[\"b3\"]))"
   ]
  },
  {
   "cell_type": "markdown",
   "metadata": {},
   "source": [
    "**Expected Result:**\n",
    "\n",
    "`W1 = [[ 1.03266513  0.25201908  0.05571284 -1.07588801 -0.16015015 -0.20482019]\n",
    " [-0.04777082 -0.36199901 -0.02529843 -0.27552196 -0.75856017  0.51073697]\n",
    " [ 0.50882921  0.98702247  0.02888694 -0.23364061 -0.31486371 -0.89285909]\n",
    " [ 0.5671701  -0.63570169 -0.68418693 -0.11873202  0.85802815  0.1366682 ]]\n",
    "b1 = [[0.]\n",
    " [0.]\n",
    " [0.]\n",
    " [0.]]\n",
    "W2 = [[-0.72392541 -0.50416233  0.44211496 -0.11350009]\n",
    " [-0.5436494  -0.16265628  0.52683434  1.39732134]\n",
    " [-0.87972804 -0.44294365 -0.56834846 -1.71055012]]\n",
    "b2 = [[0.]\n",
    " [0.]\n",
    " [0.]]\n",
    "W3 = [[-0.75427303 -0.83599106  0.91772416]]\n",
    "b3 = [[0.]]`"
   ]
  },
  {
   "cell_type": "markdown",
   "metadata": {},
   "source": [
    "## 2 - Linear Algebra fundamentals with NumPy"
   ]
  },
  {
   "cell_type": "markdown",
   "metadata": {},
   "source": [
    "Linear algebra is the branch of mathematics concerning linear equations such as linear functions such as \n",
    "and their representations through matrices and vector spaces. Linear algebra is particularly useful in deep learning as it provides efficiency in terms of calculation speed and simplicity in coding. By employing linear algebra operations the amount of loops (`for`, `while` constructs) is decreased to minimum.\n",
    "\n",
    "**Task**: Examine the following code snippet:"
   ]
  },
  {
   "cell_type": "code",
   "execution_count": 27,
   "metadata": {},
   "outputs": [],
   "source": [
    "arr1 = [1, 2, 3, 4]\n",
    "arr2 = [5, 6, 7, 8]"
   ]
  },
  {
   "cell_type": "code",
   "execution_count": 28,
   "metadata": {},
   "outputs": [
    {
     "data": {
      "text/plain": [
       "[5, 12, 21, 32]"
      ]
     },
     "execution_count": 28,
     "metadata": {},
     "output_type": "execute_result"
    }
   ],
   "source": [
    "# Multiplication of two python arrays with a loop\n",
    "product = []\n",
    "for i in range(len(arr1)):\n",
    "    product.append(arr1[i] * arr2[i])\n",
    "product"
   ]
  },
  {
   "cell_type": "markdown",
   "metadata": {},
   "source": [
    "Multiplying two vectors seems to be very complicated when using `for` loop. Additionally, raw python is terrible at this because each operation is interpreted at runtime. \n",
    "\n",
    "Utilizing NumPy the same result can be achieved by: "
   ]
  },
  {
   "cell_type": "code",
   "execution_count": 29,
   "metadata": {},
   "outputs": [
    {
     "data": {
      "text/plain": [
       "array([ 5, 12, 21, 32])"
      ]
     },
     "execution_count": 29,
     "metadata": {},
     "output_type": "execute_result"
    }
   ],
   "source": [
    "# Linear algebra version by employing NumPy\n",
    "np.array(arr1) * np.array(arr2)"
   ]
  },
  {
   "cell_type": "markdown",
   "metadata": {},
   "source": [
    "### 2.1 - NumPy and vectorized computing"
   ]
  },
  {
   "cell_type": "code",
   "execution_count": 30,
   "metadata": {},
   "outputs": [
    {
     "name": "stdout",
     "output_type": "stream",
     "text": [
      "a =  [1 2 3 4 5]\n",
      "b =  [5 4 3 2 1]\n",
      "a + 1 = [2 3 4 5 6]\n",
      "a * 2 = [ 2  4  6  8 10]\n",
      "a == 2 [False  True False False False]\n",
      "a + b = [6 6 6 6 6]\n",
      "a * b = [5 8 9 8 5]\n"
     ]
    }
   ],
   "source": [
    "a = np.array([1, 2, 3, 4, 5])\n",
    "b = np.array([5, 4, 3, 2, 1])\n",
    "print(\"a = \", a)\n",
    "print(\"b = \", b)\n",
    "\n",
    "# math and boolean operations can applied to each element of an array\n",
    "print(\"a + 1 =\", a + 1)\n",
    "print(\"a * 2 =\", a * 2)\n",
    "print(\"a == 2\", a == 2)\n",
    "\n",
    "# ... or corresponding elements of two (or more) arrays\n",
    "print(\"a + b =\",a + b)\n",
    "print(\"a * b =\",a * b)"
   ]
  },
  {
   "cell_type": "markdown",
   "metadata": {},
   "source": [
    "### 2.2 - Matrix Multiplication\n",
    "\n",
    "Similarrly, multiplication of matrix to a scalar is done by multiplying each element of the matrix to the scalar,"
   ]
  },
  {
   "cell_type": "code",
   "execution_count": 31,
   "metadata": {},
   "outputs": [
    {
     "name": "stdout",
     "output_type": "stream",
     "text": [
      "The original values of the matrix: \n",
      "[[0 2 2 7]\n",
      " [0 5 0 1]\n",
      " [4 1 2 2]]\n",
      "The values of the matrix scaled by 2: \n",
      "[[ 0  4  4 14]\n",
      " [ 0 10  0  2]\n",
      " [ 8  2  4  4]]\n"
     ]
    }
   ],
   "source": [
    "A = np.random.randint(11, size=(3, 4)) # Generate a 3 x 4 matrix of ints between 0 (inclusive) and 11 (exclusive):\n",
    "print ('The original values of the matrix: ')\n",
    "print(A)\n",
    "print ('The values of the matrix scaled by 2: ')\n",
    "print (A * 2)"
   ]
  },
  {
   "cell_type": "markdown",
   "metadata": {},
   "source": [
    "Multiplying a matrix by a matrix is tricky as not every two matrices can be multiplied. If $A$ is an $n × m$ matrix and $B$ is an $m × p$ matrix, their matrix product $AB$ is an $n × p$ matrix. The $m$ entries across a row of $A$ are multiplied with the $m$ entries down a column of $B$ and summed to produce an entry of $AB$.\n",
    "\n",
    "The NumPy function for multiplying matrices is [np.matmul](https://docs.scipy.org/doc/numpy/reference/generated/numpy.matmul.html)."
   ]
  },
  {
   "cell_type": "code",
   "execution_count": 32,
   "metadata": {},
   "outputs": [
    {
     "name": "stdout",
     "output_type": "stream",
     "text": [
      "[[0 2 2 7]\n",
      " [0 5 0 1]\n",
      " [4 1 2 2]]\n",
      "The shape of the matrix A is (3, 4)\n"
     ]
    }
   ],
   "source": [
    "print (A)\n",
    "print ('The shape of the matrix A is', A.shape)"
   ]
  },
  {
   "cell_type": "code",
   "execution_count": 33,
   "metadata": {},
   "outputs": [
    {
     "name": "stdout",
     "output_type": "stream",
     "text": [
      "[[ 4 10  8  0 10]\n",
      " [ 6  0  4  1  5]\n",
      " [ 1  8  8  7  0]\n",
      " [ 0  9  1  7  8]]\n",
      "The shape of the matrix B is (4, 5)\n"
     ]
    }
   ],
   "source": [
    "B = np.random.randint(11, size=(4, 5))\n",
    "print (B)\n",
    "print ('The shape of the matrix B is', B.shape)"
   ]
  },
  {
   "cell_type": "code",
   "execution_count": 34,
   "metadata": {},
   "outputs": [
    {
     "name": "stdout",
     "output_type": "stream",
     "text": [
      "[[14 79 31 65 66]\n",
      " [30  9 21 12 33]\n",
      " [24 74 54 29 61]]\n",
      "The shape of the matrix AB is (3, 5)\n"
     ]
    }
   ],
   "source": [
    "AB = np.matmul(A, B)\n",
    "print (AB)\n",
    "print ('The shape of the matrix AB is', AB.shape)"
   ]
  },
  {
   "cell_type": "markdown",
   "metadata": {},
   "source": [
    "The attempt to obtain the product BA will result with an error. Why?\n",
    "\n",
    "Because the dimensions mismatch. a 3x5 matrix cannot be left-multiplied with a 3x4 matrix"
   ]
  },
  {
   "cell_type": "code",
   "execution_count": 38,
   "metadata": {},
   "outputs": [
    {
     "name": "stdout",
     "output_type": "stream",
     "text": [
      "matmul: Input operand 1 has a mismatch in its core dimension 0, with gufunc signature (n?,k),(k,m?)->(n?,m?) (size 3 is different from 5)\n"
     ]
    }
   ],
   "source": [
    "try:\n",
    "    BA = np.matmul(B, A) # should produce Error\n",
    "except ValueError as err:\n",
    "    print(err)"
   ]
  },
  {
   "cell_type": "markdown",
   "metadata": {},
   "source": [
    "### 2.3 - Dot Product"
   ]
  },
  {
   "cell_type": "markdown",
   "metadata": {},
   "source": [
    "One very important vector operation in machine learning is the dot product. The dot product is the multiplication of two vectors and results with a scalar.\n",
    "\n"
   ]
  },
  {
   "cell_type": "code",
   "execution_count": 39,
   "metadata": {},
   "outputs": [
    {
     "data": {
      "text/plain": [
       "array([[-0.13191423],\n",
       "       [-0.45912326],\n",
       "       [-0.01700419],\n",
       "       [ 0.84601216]])"
      ]
     },
     "execution_count": 39,
     "metadata": {},
     "output_type": "execute_result"
    }
   ],
   "source": [
    "coeff = np.random.randn(4, 1)\n",
    "coeff"
   ]
  },
  {
   "cell_type": "code",
   "execution_count": 40,
   "metadata": {},
   "outputs": [
    {
     "data": {
      "text/plain": [
       "array([[1],\n",
       "       [1],\n",
       "       [2],\n",
       "       [0]])"
      ]
     },
     "execution_count": 40,
     "metadata": {},
     "output_type": "execute_result"
    }
   ],
   "source": [
    "data_point = np.array([[1, 1, 2, 0]]).T\n",
    "data_point"
   ]
  },
  {
   "cell_type": "code",
   "execution_count": 41,
   "metadata": {},
   "outputs": [
    {
     "data": {
      "text/plain": [
       "array([[-0.62504588]])"
      ]
     },
     "execution_count": 41,
     "metadata": {},
     "output_type": "execute_result"
    }
   ],
   "source": [
    "np.dot(coeff.T, data_point)"
   ]
  },
  {
   "cell_type": "markdown",
   "metadata": {},
   "source": [
    "In machine learning the datasets are usually represented as groups of datapoints. The dot product is very helpful when each of the datapoints in the dataset should be multiplied by the weights vector $w$. "
   ]
  },
  {
   "cell_type": "code",
   "execution_count": 42,
   "metadata": {},
   "outputs": [
    {
     "data": {
      "text/plain": [
       "array([[0, 0, 2, 2, 1, 1, 2, 0, 1, 2],\n",
       "       [2, 0, 2, 1, 2, 0, 1, 1, 0, 0],\n",
       "       [0, 0, 0, 1, 0, 0, 0, 0, 2, 0],\n",
       "       [0, 1, 2, 2, 0, 1, 0, 1, 2, 1]])"
      ]
     },
     "execution_count": 42,
     "metadata": {},
     "output_type": "execute_result"
    }
   ],
   "source": [
    "# an imaginary dataset of 10 data points each represented as a 4 x 1 vector.\n",
    "data_set = np.random.randint(3, size=(4, 10))\n",
    "data_set"
   ]
  },
  {
   "cell_type": "code",
   "execution_count": 43,
   "metadata": {},
   "outputs": [
    {
     "data": {
      "text/plain": [
       "array([[-0.91824652,  0.84601216,  0.50994933,  0.9520684 , -1.05016075,\n",
       "         0.71409793, -0.72295173,  0.3868889 ,  1.5261017 ,  0.58218369]])"
      ]
     },
     "execution_count": 43,
     "metadata": {},
     "output_type": "execute_result"
    }
   ],
   "source": [
    "# the result is a 1 x 10 vector where the elements correspond to the product of each datapoint and the weights vector.\n",
    "Z = np.dot(coeff.T, data_set)\n",
    "Z"
   ]
  },
  {
   "cell_type": "markdown",
   "metadata": {},
   "source": [
    "### 2.4 - Elementwise operation"
   ]
  },
  {
   "cell_type": "markdown",
   "metadata": {},
   "source": [
    "In machine learning there sometimes persists a need to perform elementwise algebraic operation. Elementwise operations are binary operation that takes two matrices of the same dimensions, and produces another matrix where each element $(i,j)$ is the operation of elements $(i,j)$ of the original two matrices. Some of the NumPy functions for element-wise operations are:\n",
    "* [np.multiply](https://docs.scipy.org/doc/numpy/reference/generated/numpy.multiply.html) for multiplying arguments element-wise. This operation is also known as the **Hadamard product**.\n",
    "* [np.divide](https://docs.scipy.org/doc/numpy/reference/generated/numpy.divide.html)  for dividing arguments element-wise.\n",
    "* [np.add](https://docs.scipy.org/doc/numpy/reference/generated/numpy.add.html) for adding arguments element-wise.\n",
    "* [np.subtract](https://docs.scipy.org/doc/numpy/reference/generated/numpy.subtract.html) for subtracting arguments element-wise.\n",
    "* [np.square](https://docs.scipy.org/doc/numpy/reference/generated/numpy.square.html) return the element-wise square of the input."
   ]
  },
  {
   "cell_type": "markdown",
   "metadata": {},
   "source": [
    "A simple example is applying a filter(mask) on a matrix. A filter is applied in order to zero-out some elements of the matrix."
   ]
  },
  {
   "cell_type": "code",
   "execution_count": 44,
   "metadata": {},
   "outputs": [],
   "source": [
    "matrix = np.random.rand(4, 5) # creating a random 4 x 5 matrix of floating point numbers\n",
    "mask = np.random.randint(2, size=(4, 5)) # creating a random 4 x 5 matrix of zeroes or ones"
   ]
  },
  {
   "cell_type": "code",
   "execution_count": 45,
   "metadata": {},
   "outputs": [
    {
     "name": "stdout",
     "output_type": "stream",
     "text": [
      "[[0.72566962 0.7849367  0.97209836 0.85097142 0.54359433]\n",
      " [0.         0.48887324 0.         0.7876182  0.48509423]\n",
      " [0.45527936 0.21798577 0.         0.         0.        ]\n",
      " [0.64017662 0.         0.41412692 0.         0.        ]]\n"
     ]
    }
   ],
   "source": [
    "masked_matrix = np.multiply(matrix, mask) # the Hadmard product zeroes-out the elements corresponding to the zero positions in the mask\n",
    "print (masked_matrix)"
   ]
  },
  {
   "cell_type": "markdown",
   "metadata": {},
   "source": [
    "In order to square all elements of the matrix the `np.squared` can be used:"
   ]
  },
  {
   "cell_type": "code",
   "execution_count": 46,
   "metadata": {},
   "outputs": [
    {
     "data": {
      "text/plain": [
       "array([[0.5265964 , 0.61612563, 0.94497523, 0.72415235, 0.29549479],\n",
       "       [0.        , 0.23899705, 0.        , 0.62034243, 0.23531641],\n",
       "       [0.2072793 , 0.0475178 , 0.        , 0.        , 0.        ],\n",
       "       [0.4098261 , 0.        , 0.17150111, 0.        , 0.        ]])"
      ]
     },
     "execution_count": 46,
     "metadata": {},
     "output_type": "execute_result"
    }
   ],
   "source": [
    "np.square(masked_matrix)"
   ]
  },
  {
   "cell_type": "markdown",
   "metadata": {},
   "source": [
    "## 3 -  Matplotlib"
   ]
  },
  {
   "cell_type": "markdown",
   "metadata": {},
   "source": [
    "[Matplotlib](https://matplotlib.org/) is a 2D plotting library for Python and NumPy. Matplotlib collection `matplotlib.pyplot`is a collection of command style functions.\n",
    "\n",
    "Additionally the `matplotlib.pyplot` should be imported. The `%matplotlib` is a [magic function](http://ipython.readthedocs.io/en/stable/interactive/tutorial.html#magics-explained) in IPython (the engine Jupyter notebooks run on). '%matplotlib inline' sets the backend of matplotlib to the 'inline' backend. With this backend, the output of plotting commands is displayed inline within frontends like the Jupyter notebook, directly below the code cell that produced it. The resulting plots will then also be stored in the notebook document."
   ]
  },
  {
   "cell_type": "code",
   "execution_count": 47,
   "metadata": {},
   "outputs": [],
   "source": [
    "import matplotlib.pyplot as plt\n",
    "%matplotlib inline"
   ]
  },
  {
   "cell_type": "markdown",
   "metadata": {},
   "source": [
    "A very simple demonstration of plot of type [`matplotlib.pyplot.plot`](https://matplotlib.org/stable/api/_as_gen/matplotlib.pyplot.plot.html)."
   ]
  },
  {
   "cell_type": "code",
   "execution_count": 48,
   "metadata": {},
   "outputs": [
    {
     "data": {
      "text/plain": [
       "[<matplotlib.lines.Line2D at 0x2ba8a936cc8>]"
      ]
     },
     "execution_count": 48,
     "metadata": {},
     "output_type": "execute_result"
    },
    {
     "data": {
      "image/png": "[encoded data removed]",
      "text/plain": [
       "<Figure size 432x288 with 1 Axes>"
      ]
     },
     "metadata": {
      "needs_background": "light"
     },
     "output_type": "display_data"
    }
   ],
   "source": [
    "plt.plot([1., 3., 5.], [1., 9., 25.])"
   ]
  },
  {
   "cell_type": "markdown",
   "metadata": {},
   "source": [
    "### 3.1 - Normalizing Dataset"
   ]
  },
  {
   "cell_type": "markdown",
   "metadata": {},
   "source": [
    "Element-wise operations are useful for normalizing input data. Normalizing data is one of the techniques to speed-up the learning process when training a machine learning model. It consists of two steps:\n",
    "* Subtract-out the mean $\\mu$\n",
    "* Normalize the variances $\\sigma$\n",
    "\n",
    "Let us have a look at a imaginary training set $X$ with two input features $\\begin{bmatrix} x_1\\\\x_2\\end{bmatrix}$."
   ]
  },
  {
   "cell_type": "code",
   "execution_count": 49,
   "metadata": {},
   "outputs": [],
   "source": [
    "m = 40 # number of training examples\n",
    "\n",
    "np.random.seed(4)\n",
    "x1 = np.random.uniform(low=1.0, high=5.0, size=m) # values of feature x1 are between 1 and 5\n",
    "x2 = np.random.uniform(low=2.0, high=3.0, size=m) # values of feature x2 are between 2 and 3"
   ]
  },
  {
   "cell_type": "code",
   "execution_count": 50,
   "metadata": {},
   "outputs": [],
   "source": [
    "# Uncomment if you want to add an \"outlier\"\n",
    "# x1 = np.append(x1, [-4.0])\n",
    "# x2 = np.append(x2, [-4.0])\n",
    "x1_outlier = np.append(x1, [-4.0])\n",
    "x2_outlier = np.append(x2, [-4.0])\n"
   ]
  },
  {
   "cell_type": "code",
   "execution_count": 51,
   "metadata": {},
   "outputs": [
    {
     "name": "stdout",
     "output_type": "stream",
     "text": [
      "(2, 40)\n"
     ]
    }
   ],
   "source": [
    "X_original = np.array([x1, x2])\n",
    "print (X_original.shape)"
   ]
  },
  {
   "cell_type": "markdown",
   "metadata": {},
   "source": [
    "Let us plot the data of X as a [`matplotlib.pyplot.scatter`](https://matplotlib.org/3.5.1/api/_as_gen/matplotlib.pyplot.scatter.html) plot."
   ]
  },
  {
   "cell_type": "code",
   "execution_count": 52,
   "metadata": {},
   "outputs": [
    {
     "data": {
      "text/plain": [
       "<matplotlib.collections.PathCollection at 0x2ba8a943a88>"
      ]
     },
     "execution_count": 52,
     "metadata": {},
     "output_type": "execute_result"
    },
    {
     "data": {
      "image/png": "[encoded data removed]",
      "text/plain": [
       "<Figure size 432x288 with 1 Axes>"
      ]
     },
     "metadata": {
      "needs_background": "light"
     },
     "output_type": "display_data"
    }
   ],
   "source": [
    "plt.scatter(x1, x2)\n",
    "# plt.scatter(x1_outlier, x2_outlier)"
   ]
  },
  {
   "cell_type": "markdown",
   "metadata": {},
   "source": [
    "However, we sometimes want to save some time and wrap up plotting in a function."
   ]
  },
  {
   "cell_type": "code",
   "execution_count": 53,
   "metadata": {},
   "outputs": [],
   "source": [
    "# A helper function for plotting the dataset as a scatter plot\n",
    "def plotting_helper(X, scale):\n",
    "    plt.ylim((-scale, scale)) # setting the range of the plotted y-axis\n",
    "    plt.xlim((-scale, scale)) # setting the range of the plotted x-axis\n",
    "    plt.axhline(0, color='gray', linewidth=1, linestyle='dotted') # plot the x-axis\n",
    "    plt.axvline(0, color='gray', linewidth=1, linestyle='dotted') # plot the y-axis\n",
    "    plt.xlabel(\"feature x1\")\n",
    "    plt.ylabel(\"feature x2\")\n",
    "    return plt.scatter(X[0], X[1])"
   ]
  },
  {
   "cell_type": "markdown",
   "metadata": {},
   "source": [
    "#### 3.1.1 - Graphical representation of the data in X"
   ]
  },
  {
   "cell_type": "code",
   "execution_count": 54,
   "metadata": {},
   "outputs": [
    {
     "data": {
      "text/plain": [
       "<matplotlib.collections.PathCollection at 0x2ba8cbcbf08>"
      ]
     },
     "execution_count": 54,
     "metadata": {},
     "output_type": "execute_result"
    },
    {
     "data": {
      "image/png": "[encoded data removed]",
      "text/plain": [
       "<Figure size 432x288 with 1 Axes>"
      ]
     },
     "metadata": {
      "needs_background": "light"
     },
     "output_type": "display_data"
    }
   ],
   "source": [
    "plotting_helper(X_original, 5.5)"
   ]
  },
  {
   "cell_type": "markdown",
   "metadata": {},
   "source": [
    "The mean can be calculated as: $\\mu = \\frac{1}{m} {\\sum_{i=1}^{m}x^{(i)}}$\n",
    "and then subtracted out of each element of the corresponding feature:\n",
    "$x := x - \\mu$"
   ]
  },
  {
   "cell_type": "code",
   "execution_count": 55,
   "metadata": {},
   "outputs": [],
   "source": [
    "mu_x1 = np.sum(X_original[0]) / m # calculate the mean of the x1 feature\n",
    "mu_x2 = np.sum(X_original[1]) / m # calculate the mean of the x2 feature\n",
    "\n",
    "########################## Sanity check #########################\n",
    "np.testing.assert_allclose(mu_x1, np.mean(x1), rtol=1e-5, atol=0)\n",
    "np.testing.assert_allclose(mu_x2, np.mean(x2), rtol=1e-5, atol=0)\n",
    "##################################################################"
   ]
  },
  {
   "cell_type": "code",
   "execution_count": 56,
   "metadata": {},
   "outputs": [],
   "source": [
    "x1_new = X_original[0] - mu_x1\n",
    "x2_new = X_original[1] - mu_x2\n",
    "X_new = np.array([x1_new, x2_new])"
   ]
  },
  {
   "cell_type": "markdown",
   "metadata": {},
   "source": [
    "#### 3.1.2 - Graphical representation of the data in X after subtracting the mean"
   ]
  },
  {
   "cell_type": "code",
   "execution_count": 57,
   "metadata": {},
   "outputs": [
    {
     "data": {
      "text/plain": [
       "<matplotlib.collections.PathCollection at 0x2ba8ccbd708>"
      ]
     },
     "execution_count": 57,
     "metadata": {},
     "output_type": "execute_result"
    },
    {
     "data": {
      "image/png": "[encoded data removed]",
      "text/plain": [
       "<Figure size 432x288 with 1 Axes>"
      ]
     },
     "metadata": {
      "needs_background": "light"
     },
     "output_type": "display_data"
    }
   ],
   "source": [
    "plotting_helper(X_new, 5.5)"
   ]
  },
  {
   "cell_type": "markdown",
   "metadata": {},
   "source": [
    "Our training set has now (almost) zero-mean over both features."
   ]
  },
  {
   "cell_type": "code",
   "execution_count": 58,
   "metadata": {},
   "outputs": [
    {
     "name": "stdout",
     "output_type": "stream",
     "text": [
      "[1.33226763e-16 3.33066907e-17]\n"
     ]
    }
   ],
   "source": [
    "print(X_new.mean(axis=1))"
   ]
  },
  {
   "cell_type": "markdown",
   "metadata": {},
   "source": [
    "The next step is to normalize the variances. It is obvious that the feature $x_1$ has much larger variance than the feature $x_2$. In order to do so:\n",
    "\n",
    "The variance can be calculated as: $\\sigma^{2} = \\frac{1}{m} {\\sum_{i=1}^{m}x^{2}}$\n",
    "and then each element of the features should be divided by the corresponding variance :\n",
    "$x := \\frac{x}{\\sigma}$"
   ]
  },
  {
   "cell_type": "code",
   "execution_count": 59,
   "metadata": {},
   "outputs": [],
   "source": [
    "sigma_x1 = np.sum(np.square(X_new[0])) / m # calculate the mean of the x1 feature\n",
    "sigma_x2 = np.sum(np.square(X_new[1])) / m # calculate the mean of the x2 feature\n",
    "\n",
    "############################## Sanity check #############################\n",
    "np.testing.assert_allclose(sigma_x1, np.var(X_new[0]), rtol=1e-5, atol=0)\n",
    "np.testing.assert_allclose(sigma_x2, np.var(X_new[1]), rtol=1e-5, atol=0)\n",
    "#########################################################################"
   ]
  },
  {
   "cell_type": "markdown",
   "metadata": {},
   "source": [
    "We now have the sigmas. Let us divide the features with their respective sigmas."
   ]
  },
  {
   "cell_type": "code",
   "execution_count": 60,
   "metadata": {},
   "outputs": [],
   "source": [
    "x1_norm = X_new[0] / np.sqrt(sigma_x1)\n",
    "x2_norm = X_new[1] / np.sqrt(sigma_x2)\n",
    "X_norm = np.array([x1_norm, x2_norm])"
   ]
  },
  {
   "cell_type": "code",
   "execution_count": 61,
   "metadata": {},
   "outputs": [
    {
     "data": {
      "text/plain": [
       "<matplotlib.collections.PathCollection at 0x2ba8cd3a948>"
      ]
     },
     "execution_count": 61,
     "metadata": {},
     "output_type": "execute_result"
    },
    {
     "data": {
      "image/png": "[encoded data removed]",
      "text/plain": [
       "<Figure size 432x288 with 1 Axes>"
      ]
     },
     "metadata": {
      "needs_background": "light"
     },
     "output_type": "display_data"
    }
   ],
   "source": [
    "plotting_helper(X_norm, 5.5)"
   ]
  },
  {
   "cell_type": "markdown",
   "metadata": {},
   "source": [
    "The variances of both $x_1$ and $x_2$ are now equal to 1."
   ]
  },
  {
   "cell_type": "code",
   "execution_count": 62,
   "metadata": {},
   "outputs": [
    {
     "name": "stdout",
     "output_type": "stream",
     "text": [
      "[1. 1.]\n"
     ]
    }
   ],
   "source": [
    "print(X_norm.std(axis=1))"
   ]
  },
  {
   "cell_type": "markdown",
   "metadata": {},
   "source": [
    "#### 3.1.3 - Calculating the norm: the elegant way"
   ]
  },
  {
   "cell_type": "markdown",
   "metadata": {},
   "source": [
    "Another way to calculate the norm is by employing element-wise operations. It is a more elegant way."
   ]
  },
  {
   "cell_type": "code",
   "execution_count": 63,
   "metadata": {},
   "outputs": [],
   "source": [
    "sum_X = np.sum(np.square(X_new), axis=1) # element-wise squaring of all elements of the dataset and summing thep s per row\n",
    "sigmas_X = np.divide(sum_X , m) # dividing the sums by m\n",
    "sigmas_X = np.expand_dims(sigmas_X, axis=1) # reshaping the result with aditional axis - from (2,) to  (2, 1)"
   ]
  },
  {
   "cell_type": "markdown",
   "metadata": {},
   "source": [
    "**Task:** Finish the normalization.\n",
    "\n",
    "**Hint:** use `np.divide` and `np.sqrt`"
   ]
  },
  {
   "cell_type": "code",
   "execution_count": 64,
   "metadata": {},
   "outputs": [],
   "source": [
    "# perform the element-wise division\n",
    "X_norm_elegant = np.divide(X_new, np.sqrt(sigmas_X))"
   ]
  },
  {
   "cell_type": "code",
   "execution_count": 65,
   "metadata": {},
   "outputs": [
    {
     "data": {
      "text/plain": [
       "<matplotlib.collections.PathCollection at 0x2ba8cdb8448>"
      ]
     },
     "execution_count": 65,
     "metadata": {},
     "output_type": "execute_result"
    },
    {
     "data": {
      "image/png": "[encoded data removed]",
      "text/plain": [
       "<Figure size 432x288 with 1 Axes>"
      ]
     },
     "metadata": {
      "needs_background": "light"
     },
     "output_type": "display_data"
    }
   ],
   "source": [
    "plotting_helper(X_norm_elegant, 5.5)"
   ]
  },
  {
   "cell_type": "markdown",
   "metadata": {},
   "source": [
    "The variances of both $x_1$ and $x_2$ should again equal to 1."
   ]
  },
  {
   "cell_type": "code",
   "execution_count": 66,
   "metadata": {},
   "outputs": [
    {
     "name": "stdout",
     "output_type": "stream",
     "text": [
      "[1. 1.]\n"
     ]
    }
   ],
   "source": [
    "# What is x_norm_easy?\n",
    "X_norm_easy = X_norm\n",
    "print(X_norm_easy.std(axis=1))"
   ]
  },
  {
   "cell_type": "markdown",
   "metadata": {},
   "source": [
    "#### 3.1.4 - Out-of-the-box normalization with Scikit-Learn"
   ]
  },
  {
   "cell_type": "markdown",
   "metadata": {},
   "source": [
    "Machine learning tools such as `sklearn` provide normalizing functions that let you apply various normalizations."
   ]
  },
  {
   "cell_type": "code",
   "execution_count": 67,
   "metadata": {},
   "outputs": [
    {
     "name": "stdout",
     "output_type": "stream",
     "text": [
      "Requirement already satisfied: scikit-learn in d:\\anaconda\\envs\\deeplearning\\lib\\site-packages (1.0.2)\n",
      "Requirement already satisfied: joblib>=0.11 in d:\\anaconda\\envs\\deeplearning\\lib\\site-packages (from scikit-learn) (1.1.0)\n",
      "Requirement already satisfied: scipy>=1.1.0 in d:\\anaconda\\envs\\deeplearning\\lib\\site-packages (from scikit-learn) (1.7.3)\n",
      "Requirement already satisfied: threadpoolctl>=2.0.0 in d:\\anaconda\\envs\\deeplearning\\lib\\site-packages (from scikit-learn) (3.1.0)\n",
      "Requirement already satisfied: numpy>=1.14.6 in d:\\anaconda\\envs\\deeplearning\\lib\\site-packages (from scikit-learn) (1.21.5)\n"
     ]
    }
   ],
   "source": [
    "# Install Scikit-Learn\n",
    "!pip install scikit-learn"
   ]
  },
  {
   "cell_type": "code",
   "execution_count": 68,
   "metadata": {},
   "outputs": [],
   "source": [
    "from sklearn.preprocessing import scale"
   ]
  },
  {
   "cell_type": "code",
   "execution_count": 69,
   "metadata": {},
   "outputs": [
    {
     "name": "stdout",
     "output_type": "stream",
     "text": [
      "[1. 1.]\n"
     ]
    },
    {
     "data": {
      "image/png": "[encoded data removed]",
      "text/plain": [
       "<Figure size 432x288 with 1 Axes>"
      ]
     },
     "metadata": {
      "needs_background": "light"
     },
     "output_type": "display_data"
    }
   ],
   "source": [
    "X_normed_sklearn = scale(X_original, axis=1)\n",
    "plotting_helper(X_normed_sklearn, 5.5)\n",
    "print(X_normed_sklearn.std(axis=1)) # the sum of the normalized features should be 1."
   ]
  },
  {
   "cell_type": "markdown",
   "metadata": {},
   "source": [
    "**Important notice**:\n",
    "- keep track of the dimensions of the data structures in NumPy when calculating matrix and dot product. \n",
    "- in order to perform elementwise operations, the sizes of the NumPy arrays must be identical."
   ]
  },
  {
   "cell_type": "markdown",
   "metadata": {},
   "source": [
    "## 4 - Advanced Plotting with Matplotlib"
   ]
  },
  {
   "cell_type": "markdown",
   "metadata": {},
   "source": [
    "### 4.1 - Plotting images"
   ]
  },
  {
   "cell_type": "markdown",
   "metadata": {},
   "source": [
    "In machine learning problems, images are represented using standard NumPy arrays. This allows maximum inter-operability with other libraries in the scientific Python ecosystem.\n",
    "\n",
    "The [matplotlib.pyplot.imshow](https://matplotlib.org/api/_as_gen/matplotlib.pyplot.imshow.html) is used to plot images."
   ]
  },
  {
   "cell_type": "code",
   "execution_count": 70,
   "metadata": {},
   "outputs": [],
   "source": [
    "im_width = 64 # defining the value for image width\n",
    "im_height = 64 # defining the value for image height\n",
    "im_channels = 3 # defining the number of channels. 3 stands for Red, Green, and Blue\n",
    "\n",
    "# Creating a numpy array of random values(max value 256) with the shape (im_width, im_height, im_channels)\n",
    "noise_image_rgb = np.random.randint(256, size=(im_width, im_height, im_channels))"
   ]
  },
  {
   "cell_type": "code",
   "execution_count": 71,
   "metadata": {},
   "outputs": [
    {
     "data": {
      "text/plain": [
       "<matplotlib.image.AxesImage at 0x2baa503b688>"
      ]
     },
     "execution_count": 71,
     "metadata": {},
     "output_type": "execute_result"
    },
    {
     "data": {
      "image/png": "[encoded data removed]",
      "text/plain": [
       "<Figure size 432x288 with 1 Axes>"
      ]
     },
     "metadata": {
      "needs_background": "light"
     },
     "output_type": "display_data"
    }
   ],
   "source": [
    "# use imshow to display a 3D NumPy array as an image. The third dimension is for the RGB channels\n",
    "plt.imshow(noise_image_rgb)"
   ]
  },
  {
   "cell_type": "markdown",
   "metadata": {},
   "source": [
    "Another way to represent images in machine learning is by one-dimensional array. "
   ]
  },
  {
   "cell_type": "code",
   "execution_count": 72,
   "metadata": {},
   "outputs": [
    {
     "name": "stdout",
     "output_type": "stream",
     "text": [
      "(4096,)\n"
     ]
    }
   ],
   "source": [
    "# create a NumPy array of 64 * 64 = 4096 random numbers with values between 0 and 1\n",
    "noise_image_bw = np.random.uniform(low=0.0, high=1.0, size=im_width * im_height)\n",
    "print(noise_image_bw.shape)"
   ]
  },
  {
   "cell_type": "markdown",
   "metadata": {},
   "source": [
    "In order to be plotted, the array should be reshaped using [np.reshape](https://docs.scipy.org/doc/numpy/reference/generated/numpy.reshape.html)."
   ]
  },
  {
   "cell_type": "code",
   "execution_count": 73,
   "metadata": {},
   "outputs": [
    {
     "name": "stdout",
     "output_type": "stream",
     "text": [
      "(64, 64)\n"
     ]
    }
   ],
   "source": [
    "noise_image_bw = noise_image_bw.reshape(im_width, im_width)\n",
    "print(noise_image_bw.shape)"
   ]
  },
  {
   "cell_type": "code",
   "execution_count": 74,
   "metadata": {},
   "outputs": [
    {
     "data": {
      "text/plain": [
       "<matplotlib.image.AxesImage at 0x2baa50dbb48>"
      ]
     },
     "execution_count": 74,
     "metadata": {},
     "output_type": "execute_result"
    },
    {
     "data": {
      "image/png": "[encoded data removed]",
      "text/plain": [
       "<Figure size 432x288 with 1 Axes>"
      ]
     },
     "metadata": {
      "needs_background": "light"
     },
     "output_type": "display_data"
    }
   ],
   "source": [
    "# The cmap parameter defines the color map. In this case we have a 2D array and therefore plot the grayscale image.\n",
    "plt.imshow(noise_image_bw, cmap='gray') "
   ]
  },
  {
   "cell_type": "markdown",
   "metadata": {},
   "source": [
    "### 4.2 - Defining and Plotting Functions"
   ]
  },
  {
   "cell_type": "markdown",
   "metadata": {},
   "source": [
    "#### 4.2.1 - Heavside Step Function\n",
    "[np.heaviside](https://numpy.org/doc/stable/reference/generated/numpy.heaviside.html)"
   ]
  },
  {
   "cell_type": "code",
   "execution_count": 75,
   "metadata": {},
   "outputs": [],
   "source": [
    "A = np.linspace(-5., 5., 100) # defining an array of 100 equally spaced real values between -5 and 5"
   ]
  },
  {
   "cell_type": "code",
   "execution_count": 76,
   "metadata": {},
   "outputs": [],
   "source": [
    "def step(x):\n",
    "    return np.heaviside(x, 0)"
   ]
  },
  {
   "cell_type": "code",
   "execution_count": 77,
   "metadata": {},
   "outputs": [
    {
     "data": {
      "text/plain": [
       "<matplotlib.legend.Legend at 0x2baa51623c8>"
      ]
     },
     "execution_count": 77,
     "metadata": {},
     "output_type": "execute_result"
    },
    {
     "data": {
      "image/png": "[encoded data removed]",
      "text/plain": [
       "<Figure size 432x288 with 1 Axes>"
      ]
     },
     "metadata": {
      "needs_background": "light"
     },
     "output_type": "display_data"
    }
   ],
   "source": [
    "plt.plot(A, step(A), label=\"step(z)\")\n",
    "plt.axhline(0, color='gray', linewidth=1, linestyle='dotted') # plot the x-axis\n",
    "plt.axvline(0, color='gray', linewidth=1, linestyle='dotted') # plot the y-axis\n",
    "plt.xlabel(\"z\")\n",
    "plt.legend()"
   ]
  },
  {
   "cell_type": "markdown",
   "metadata": {},
   "source": [
    "#### 4.2.2 - Sigmoid Function"
   ]
  },
  {
   "cell_type": "markdown",
   "metadata": {},
   "source": [
    "The Sigmoid function: $$sigmoid(x) = \\frac{1}{1+e^{-x}}$$ is sometimes also known as the logistic function. It is a non-linear function used not only in Machine Learning (Logistic Regression), but also in Deep Learning. The output of the sigmoid funcion ranges between 0 and 1.\n",
    "\n",
    "**Task**: Implement the sigmoid function using numpy.\n",
    "\n",
    "**Hint**: Use the [np.exp](https://docs.scipy.org/doc/numpy/reference/generated/numpy.exp.html) function."
   ]
  },
  {
   "cell_type": "code",
   "execution_count": 78,
   "metadata": {},
   "outputs": [],
   "source": [
    "def sigmoid(x):\n",
    "    \"\"\"\n",
    "    Compute sigmoid of x.\n",
    "\n",
    "    Arguments:\n",
    "    x -- A scalar\n",
    "\n",
    "    Return:\n",
    "    s -- sigmoid(x)\n",
    "    \"\"\"\n",
    "    s =  1. / (1. + np.exp(-x)) # 1. use double type\n",
    "    \n",
    "    return s"
   ]
  },
  {
   "cell_type": "code",
   "execution_count": 79,
   "metadata": {},
   "outputs": [
    {
     "data": {
      "text/plain": [
       "array([0.73105858, 0.88079708, 0.95257413])"
      ]
     },
     "execution_count": 79,
     "metadata": {},
     "output_type": "execute_result"
    }
   ],
   "source": [
    "x = np.array([1, 2, 3])\n",
    "sigmoid(x)"
   ]
  },
  {
   "cell_type": "markdown",
   "metadata": {},
   "source": [
    "**Expected Result:** \n",
    "\n",
    "`array([0.73105858, 0.88079708, 0.95257413])`"
   ]
  },
  {
   "cell_type": "markdown",
   "metadata": {},
   "source": [
    "**Important notice**: the argument x could be either a real number, a vector, or a matrix. \n",
    "$$ \\text{For } x \\in \\mathbb{R}^n \\text{,     } sigmoid(x) = sigmoid\\begin{pmatrix}\n",
    "    x_1  \\\\\n",
    "    x_2  \\\\\n",
    "    ...  \\\\\n",
    "    x_n  \\\\\n",
    "\\end{pmatrix} = \\begin{pmatrix}\n",
    "    \\frac{1}{1+e^{-x_1}}  \\\\\n",
    "    \\frac{1}{1+e^{-x_2}}  \\\\\n",
    "    ...  \\\\\n",
    "    \\frac{1}{1+e^{-x_n}}  \\\\\n",
    "\\end{pmatrix}\\tag{1} $$"
   ]
  },
  {
   "cell_type": "code",
   "execution_count": 80,
   "metadata": {},
   "outputs": [
    {
     "data": {
      "text/plain": [
       "<matplotlib.legend.Legend at 0x2baa51fddc8>"
      ]
     },
     "execution_count": 80,
     "metadata": {},
     "output_type": "execute_result"
    },
    {
     "data": {
      "image/png": "[encoded data removed]",
      "text/plain": [
       "<Figure size 432x288 with 1 Axes>"
      ]
     },
     "metadata": {
      "needs_background": "light"
     },
     "output_type": "display_data"
    }
   ],
   "source": [
    "plt.plot(A, sigmoid(A), label=\"sigmoid(z)\")\n",
    "plt.axhline(0, color='gray', linewidth=1, linestyle='dotted') # plot the x-axis\n",
    "plt.axvline(0, color='gray', linewidth=1, linestyle='dotted') # plot the y-axis\n",
    "plt.xlabel(\"z\")\n",
    "plt.legend()"
   ]
  },
  {
   "cell_type": "markdown",
   "metadata": {},
   "source": [
    "#### 4.2.3  - Tanh Function - the hyperbolic tangent function\n",
    "\n",
    "The Hyperbolic tangent function $$tanh(x) = \\frac{e^{x} - e^{-x}}{e^{x} + e^{-x}} = \\frac{e^{2x} - 1}{e^{2x} + 1}$$ also known as the Tanh function is a non-linear function. This function is aslo used not only in Machine Learning and Deep Learning. The output of the tanh funcion ranges between -1 and 1.\n",
    "\n",
    "**Task**: Implement the tanh function using numpy.\n",
    "\n",
    "**Hint**: Use the [np.exp](https://docs.scipy.org/doc/numpy/reference/generated/numpy.exp.html) function."
   ]
  },
  {
   "cell_type": "code",
   "execution_count": 81,
   "metadata": {},
   "outputs": [],
   "source": [
    "def tanh(x):\n",
    "    \"\"\"\n",
    "    Compute hyperbolic tangent of x.\n",
    "\n",
    "    Arguments:\n",
    "    x -- A scalar\n",
    "\n",
    "    Return:\n",
    "    tanh -- tanh(x)\n",
    "    \"\"\"\n",
    "    tanh =  (np.exp(2*x) - 1.) / (np.exp(2*x) + 1.) \n",
    "    \n",
    "    return tanh"
   ]
  },
  {
   "cell_type": "code",
   "execution_count": 82,
   "metadata": {},
   "outputs": [
    {
     "data": {
      "text/plain": [
       "<matplotlib.legend.Legend at 0x2baa5288808>"
      ]
     },
     "execution_count": 82,
     "metadata": {},
     "output_type": "execute_result"
    },
    {
     "data": {
      "image/png": "[encoded data removed]",
      "text/plain": [
       "<Figure size 432x288 with 1 Axes>"
      ]
     },
     "metadata": {
      "needs_background": "light"
     },
     "output_type": "display_data"
    }
   ],
   "source": [
    "plt.plot(A, tanh(A), label=\"tanh(z)\")\n",
    "plt.axhline(0, color='gray', linewidth=1, linestyle='dotted') # plot the x-axis\n",
    "plt.axvline(0, color='gray', linewidth=1, linestyle='dotted') # plot the y-axis\n",
    "plt.xlabel(\"z\")\n",
    "plt.legend()"
   ]
  },
  {
   "cell_type": "markdown",
   "metadata": {},
   "source": [
    "#### 4.2.4 - Rectified Linear Unit\n",
    "\n",
    "The Rectified Linear Unit $$relu(x) = max(0, x)$$ also known as the ReLU is the most widely used activation function in deep learning. Its properties greately accelerate the convergence in the training process of deep neural networks.\n",
    "\n",
    "**Task**: Implement the ReLU function using numpy.\n",
    "\n",
    "**Hint**: Use the [np.maximum](https://docs.scipy.org/doc/numpy/reference/generated/numpy.maximum.html) function."
   ]
  },
  {
   "cell_type": "code",
   "execution_count": 83,
   "metadata": {},
   "outputs": [],
   "source": [
    "def ReLU(x):\n",
    "    \"\"\"\n",
    "    Compute ReLU of x.\n",
    "\n",
    "    Arguments:\n",
    "    x -- A scalar\n",
    "\n",
    "    Return:\n",
    "    relu -- ReLU(x)\n",
    "    \"\"\"\n",
    "    relu =   np.maximum(0, x)\n",
    "    \n",
    "    return relu"
   ]
  },
  {
   "cell_type": "code",
   "execution_count": 84,
   "metadata": {},
   "outputs": [
    {
     "data": {
      "text/plain": [
       "<matplotlib.legend.Legend at 0x2baa5301f08>"
      ]
     },
     "execution_count": 84,
     "metadata": {},
     "output_type": "execute_result"
    },
    {
     "data": {
      "image/png": "[encoded data removed]",
      "text/plain": [
       "<Figure size 432x288 with 1 Axes>"
      ]
     },
     "metadata": {
      "needs_background": "light"
     },
     "output_type": "display_data"
    }
   ],
   "source": [
    "plt.plot(A, ReLU(A), label=\"ReLU(z)\")\n",
    "plt.axhline(0, color='gray', linewidth=1, linestyle='dotted') # plot the x-axis\n",
    "plt.axvline(0, color='gray', linewidth=1, linestyle='dotted') # plot the y-axis\n",
    "plt.xlabel(\"z\")\n",
    "plt.legend()"
   ]
  },
  {
   "cell_type": "markdown",
   "metadata": {},
   "source": [
    "#### 4.2.5 - Leaky ReLU"
   ]
  },
  {
   "cell_type": "markdown",
   "metadata": {},
   "source": [
    "**Task**: Take time and search for the equation of the Leaky ReLU function. Then, implement the Leaky ReLU function using numpy.\n",
    "\n",
    "**Hint**: Use the [np.maximum](https://docs.scipy.org/doc/numpy/reference/generated/numpy.maximum.html) function."
   ]
  },
  {
   "cell_type": "code",
   "execution_count": 85,
   "metadata": {},
   "outputs": [],
   "source": [
    "def LeakyReLU(x, a=0.01):\n",
    "    \"\"\"\n",
    "    Compute leaky ReLU of x.\n",
    "\n",
    "    Arguments:\n",
    "    x -- A scalar\n",
    "    a -- the leakage parameter default to 0.01\n",
    "\n",
    "    Return:\n",
    "    leaky_relu -- leakyReLU(x)\n",
    "    \"\"\"\n",
    "    leaky_relu = np.maximum(a*x, x)\n",
    "    \n",
    "    \n",
    "    \n",
    "    return leaky_relu"
   ]
  },
  {
   "cell_type": "code",
   "execution_count": 86,
   "metadata": {},
   "outputs": [
    {
     "data": {
      "text/plain": [
       "<matplotlib.legend.Legend at 0x2baa5399f88>"
      ]
     },
     "execution_count": 86,
     "metadata": {},
     "output_type": "execute_result"
    },
    {
     "data": {
      "image/png": "[encoded data removed]",
      "text/plain": [
       "<Figure size 432x288 with 1 Axes>"
      ]
     },
     "metadata": {
      "needs_background": "light"
     },
     "output_type": "display_data"
    }
   ],
   "source": [
    "A3=np.linspace(-100,100)\n",
    "plt.plot(A3, LeakyReLU(A3, 0.1), label=\"LeakyReLU(z)\")\n",
    "plt.axhline(0, color='gray', linewidth=1, linestyle='dotted') # plot the x-axis\n",
    "plt.axvline(0, color='gray', linewidth=1, linestyle='dotted') # plot the y-axis\n",
    "plt.xlabel(\"z\")\n",
    "plt.legend()"
   ]
  },
  {
   "cell_type": "code",
   "execution_count": 87,
   "metadata": {},
   "outputs": [
    {
     "data": {
      "text/plain": [
       "<matplotlib.legend.Legend at 0x2baa543c388>"
      ]
     },
     "execution_count": 87,
     "metadata": {},
     "output_type": "execute_result"
    },
    {
     "data": {
      "image/png": "[encoded data removed]",
      "text/plain": [
       "<Figure size 432x288 with 1 Axes>"
      ]
     },
     "metadata": {
      "needs_background": "light"
     },
     "output_type": "display_data"
    }
   ],
   "source": [
    "A2=np.linspace(-2, 2)\n",
    "plt.plot(A2, ReLU(A2), label=\"ReLU(z)\")\n",
    "plt.plot(A2, sigmoid(A2), label=\"sigmoid(z)\")\n",
    "plt.plot(A2, tanh(A2), label=\"tanh(z)\")\n",
    "plt.plot(A2, LeakyReLU(A2, 0.1), label=\"LeakyReLU(z)\")\n",
    "plt.axhline(0, color='gray', linewidth=1, linestyle='dotted') # plot the x-axis\n",
    "plt.axvline(0, color='gray', linewidth=1, linestyle='dotted') # plot the y-axis\n",
    "plt.xlabel(\"z\")\n",
    "plt.legend()"
   ]
  },
  {
   "cell_type": "code",
   "execution_count": 88,
   "metadata": {},
   "outputs": [
    {
     "data": {
      "text/plain": [
       "array([ 0.53701766,  0.25879144,  0.55639378, -0.52762083,  0.92451267,\n",
       "       -0.20955245, -2.2244058 ,  0.97120452, -0.42402695, -1.19987825,\n",
       "        1.9041594 ,  1.78843704,  0.03502984,  1.35019644, -0.68196222,\n",
       "        2.17592353,  2.36074022, -0.85099308, -0.55350534, -0.62507575,\n",
       "        0.94088122,  0.58875264,  1.06598902,  2.36100772, -0.23875729,\n",
       "       -1.7130467 ,  1.54409005,  0.17455316, -0.13010664,  0.30670826,\n",
       "       -0.69791107,  1.4076243 ,  2.166487  ,  0.67247488,  1.57839866,\n",
       "        1.37123244, -1.34470018,  1.38144043,  0.46854911, -1.74123156,\n",
       "       -1.0561291 ,  0.6244443 ,  1.1189118 ,  1.87626092,  0.5510892 ,\n",
       "        1.4002964 , -0.33606476,  1.34524527,  0.57779684, -0.14195605,\n",
       "        1.10593743, -2.08005214,  1.96512354, -0.08685258,  0.85719829,\n",
       "        0.11469109, -0.65259913,  0.55192823, -1.68912889, -1.21359275,\n",
       "        0.99040862, -0.65553105,  1.02197926,  0.21784311,  1.77698742,\n",
       "        0.24880973,  1.94102034,  1.17314054,  0.94632514,  1.21412706,\n",
       "        0.16463679,  0.33645804,  1.33440165,  0.40684873,  1.34258671,\n",
       "       -1.3598135 ,  0.57442037,  1.55901725,  1.80925582,  1.78565065,\n",
       "       -1.37191302, -0.92686115,  1.53003217,  0.9941173 ,  0.02565871,\n",
       "       -0.67672973,  0.06810348,  0.94892324, -1.29665924, -0.12329963,\n",
       "        2.1259259 , -0.0351381 ,  0.43605096,  0.45161034, -0.87911457,\n",
       "        0.60282669, -3.33083154, -0.38731467,  0.15845449, -0.83302841])"
      ]
     },
     "execution_count": 88,
     "metadata": {},
     "output_type": "execute_result"
    }
   ],
   "source": [
    "np.random.randn(100)"
   ]
  },
  {
   "cell_type": "markdown",
   "metadata": {},
   "source": [
    "### 4.3 - Broadcasting\n",
    "A very important concept to understand in numpy is \"broadcasting\". It is very useful for performing mathematical operations between arrays of different shapes. For the full details on broadcasting, you can read the official [broadcasting documentation](http://docs.scipy.org/doc/numpy/user/basics.broadcasting.html)."
   ]
  },
  {
   "cell_type": "markdown",
   "metadata": {},
   "source": [
    "#### 4.3.1 - The Softmax Function\n",
    "**Task**: Implement a softmax function using numpy. You can think of softmax as a normalizing function used when your algorithm needs to classify two or more classes.\n",
    "\n",
    "**Instructions**:\n",
    "- $ \\text{for } x \\in \\mathbb{R}^{1\\times n} \\text{,     } softmax(x) = softmax(\\begin{bmatrix}\n",
    "    x_1  &&\n",
    "    x_2 &&\n",
    "    ...  &&\n",
    "    x_n  \n",
    "\\end{bmatrix}) = \\begin{bmatrix}\n",
    "     \\frac{e^{x_1}}{\\sum_{j}e^{x_j}}  &&\n",
    "    \\frac{e^{x_2}}{\\sum_{j}e^{x_j}}  &&\n",
    "    ...  &&\n",
    "    \\frac{e^{x_n}}{\\sum_{j}e^{x_j}} \n",
    "\\end{bmatrix} $ \n",
    "\n",
    "- $\\text{for a matrix } x \\in \\mathbb{R}^{m \\times n} \\text{,  $x_{ij}$ maps to the element in the $i^{th}$ row and $j^{th}$ column of $x$, thus we have: }$  $$softmax(x) = softmax\\begin{bmatrix}\n",
    "    x_{11} & x_{12} & x_{13} & \\dots  & x_{1n} \\\\\n",
    "    x_{21} & x_{22} & x_{23} & \\dots  & x_{2n} \\\\\n",
    "    \\vdots & \\vdots & \\vdots & \\ddots & \\vdots \\\\\n",
    "    x_{m1} & x_{m2} & x_{m3} & \\dots  & x_{mn}\n",
    "\\end{bmatrix} = \\begin{bmatrix}\n",
    "    \\frac{e^{x_{11}}}{\\sum_{j}e^{x_{1j}}} & \\frac{e^{x_{12}}}{\\sum_{j}e^{x_{1j}}} & \\frac{e^{x_{13}}}{\\sum_{j}e^{x_{1j}}} & \\dots  & \\frac{e^{x_{1n}}}{\\sum_{j}e^{x_{1j}}} \\\\\n",
    "    \\frac{e^{x_{21}}}{\\sum_{j}e^{x_{2j}}} & \\frac{e^{x_{22}}}{\\sum_{j}e^{x_{2j}}} & \\frac{e^{x_{23}}}{\\sum_{j}e^{x_{2j}}} & \\dots  & \\frac{e^{x_{2n}}}{\\sum_{j}e^{x_{2j}}} \\\\\n",
    "    \\vdots & \\vdots & \\vdots & \\ddots & \\vdots \\\\\n",
    "    \\frac{e^{x_{m1}}}{\\sum_{j}e^{x_{mj}}} & \\frac{e^{x_{m2}}}{\\sum_{j}e^{x_{mj}}} & \\frac{e^{x_{m3}}}{\\sum_{j}e^{x_{mj}}} & \\dots  & \\frac{e^{x_{mn}}}{\\sum_{j}e^{x_{mj}}}\n",
    "\\end{bmatrix} = \\begin{pmatrix}\n",
    "    softmax\\text{(first row of x)}  \\\\\n",
    "    softmax\\text{(second row of x)} \\\\\n",
    "    ...  \\\\\n",
    "    softmax\\text{(last row of x)} \\\\\n",
    "\\end{pmatrix} $$"
   ]
  },
  {
   "cell_type": "code",
   "execution_count": 89,
   "metadata": {},
   "outputs": [],
   "source": [
    "def softmax(x):\n",
    "    \"\"\"Calculates the softmax for each row of the input x.\n",
    "\n",
    "    The code should work for a row vector and also for matrices of shape (n, m).\n",
    "\n",
    "    Argument:\n",
    "    x -- A numpy matrix of shape (n,m)\n",
    "\n",
    "    Returns:\n",
    "    s -- A numpy matrix equal to the softmax of x, of shape (n,m)\n",
    "    \"\"\"\n",
    "    \n",
    "    # Apply exp() element-wise to x. Use np.exp(...).\n",
    "    x_exp = np.exp(x)\n",
    "\n",
    "    # Create a vector x_sum that sums each row of x_exp. Use np.sum(..., axis = 1, keepdims = True).\n",
    "    x_sum = np.sum(x_exp, axis = 1, keepdims = True)\n",
    "    \n",
    "    # Compute softmax(x) by dividing x_exp by x_sum. It should automatically use numpy broadcasting.\n",
    "    s = x_exp / x_sum\n",
    "    \n",
    "    return s"
   ]
  },
  {
   "cell_type": "code",
   "execution_count": 90,
   "metadata": {},
   "outputs": [
    {
     "name": "stdout",
     "output_type": "stream",
     "text": [
      "softmax(x) = [[9.80897665e-01 8.94462891e-04 1.79657674e-02 1.21052389e-04\n",
      "  1.21052389e-04]\n",
      " [8.78679856e-01 1.18916387e-01 8.01252314e-04 8.01252314e-04\n",
      "  8.01252314e-04]]\n"
     ]
    }
   ],
   "source": [
    "x = np.array([\n",
    "    [9, 2, 5, 0, 0],\n",
    "    [7, 5, 0, 0 ,0]])\n",
    "print(\"softmax(x) = \" + str(softmax(x)))"
   ]
  },
  {
   "cell_type": "markdown",
   "metadata": {},
   "source": [
    "**Expected Result:**\n",
    "\n",
    "`softmax(x) = [[9.80897665e-01 8.94462891e-04 1.79657674e-02 1.21052389e-04\n",
    "  1.21052389e-04]\n",
    " [8.78679856e-01 1.18916387e-01 8.01252314e-04 8.01252314e-04\n",
    "  8.01252314e-04]]`"
   ]
  },
  {
   "cell_type": "markdown",
   "metadata": {},
   "source": [
    "#### 4.3.2 Broadcasting and logical operations\n",
    "\n",
    "In many machine learning applications, the output of a binary classifier is a vector of probabilities."
   ]
  },
  {
   "cell_type": "code",
   "execution_count": 91,
   "metadata": {},
   "outputs": [
    {
     "name": "stdout",
     "output_type": "stream",
     "text": [
      "[[0.68391213]\n",
      " [0.290142  ]\n",
      " [0.33379528]\n",
      " [0.55056622]\n",
      " [0.59213561]\n",
      " [0.13118966]\n",
      " [0.21008233]\n",
      " [0.77729657]\n",
      " [0.0207883 ]\n",
      " [0.39409705]]\n"
     ]
    }
   ],
   "source": [
    "probabilities = np.random.rand(10, 1)\n",
    "print (probabilities)"
   ]
  },
  {
   "cell_type": "markdown",
   "metadata": {},
   "source": [
    "Each entry in the vector corresponds to the probability that the data sample belongs to the class A. A usual way to convert the probabilities to classes is to use threshold of 0.5 such as:\n",
    "* if the probability is greater than 0.5 the data point belongs to class A\n",
    "* otherwise it belongs to the class B"
   ]
  },
  {
   "cell_type": "code",
   "execution_count": 92,
   "metadata": {},
   "outputs": [
    {
     "data": {
      "text/plain": [
       "array([[ True],\n",
       "       [False],\n",
       "       [False],\n",
       "       [ True],\n",
       "       [ True],\n",
       "       [False],\n",
       "       [False],\n",
       "       [ True],\n",
       "       [False],\n",
       "       [False]])"
      ]
     },
     "execution_count": 92,
     "metadata": {},
     "output_type": "execute_result"
    }
   ],
   "source": [
    "probabilities > 0.5"
   ]
  },
  {
   "cell_type": "markdown",
   "metadata": {},
   "source": [
    "## 5 - Demonstrating the speed advantage of NumPy"
   ]
  },
  {
   "cell_type": "markdown",
   "metadata": {},
   "source": [
    "In this section we will demonstrate the speed advantage that NumPy has over standard Python code. For this purpose we calculate the time needed for creating two vectors each of 3.000.000 elements and summing them up in an elementwise manner:\n",
    "* using pure Python code with `for` loop\n",
    "* employing the `np.add` function on NumPy arrays"
   ]
  },
  {
   "cell_type": "code",
   "execution_count": 93,
   "metadata": {},
   "outputs": [],
   "source": [
    "size_of_vec = 3000000 # the number of elements for X and Y"
   ]
  },
  {
   "cell_type": "code",
   "execution_count": 94,
   "metadata": {},
   "outputs": [],
   "source": [
    "import time\n",
    "\n",
    "def pure_python_version():\n",
    "    t1 = time.time() # taking a snapshot of the current system time\n",
    "    X = range(size_of_vec) # creating the  vector X\n",
    "    Y = range(size_of_vec) # creating the vector Y\n",
    "    Z = [] # creating a variable for aggregating the results\n",
    "    \n",
    "    # explicitly looping over the elements\n",
    "    for i in range(len(X)):\n",
    "        #appending the intermediate results to the aggregator array\n",
    "        Z.append(X[i] + Y[i])\n",
    "    # return the difference between current time and the snapshot taken earlier\n",
    "    return time.time() - t1\n",
    "\n",
    "def numpy_version():\n",
    "    t1 = time.time() # taking a snapshot of the current system time\n",
    "    X = np.arange(size_of_vec) # creaing the array X with np.arange\n",
    "    Y = np.arange(size_of_vec) # creaing the array Y with np.arange\n",
    "    Z = np.add(X, Y) # calculating the elementwise sum with np.add\n",
    "    # return the difference between current time and the snapshot taken earlier\n",
    "    return time.time() - t1"
   ]
  },
  {
   "cell_type": "code",
   "execution_count": 95,
   "metadata": {},
   "outputs": [],
   "source": [
    "t1 = pure_python_version()"
   ]
  },
  {
   "cell_type": "code",
   "execution_count": 96,
   "metadata": {},
   "outputs": [],
   "source": [
    "t2 = numpy_version()"
   ]
  },
  {
   "cell_type": "code",
   "execution_count": 97,
   "metadata": {},
   "outputs": [
    {
     "name": "stdout",
     "output_type": "stream",
     "text": [
      "1.7980968952178955 0.01795673370361328\n",
      "Numpy is 100.13496468213926 times faster in this example!\n"
     ]
    }
   ],
   "source": [
    "print(t1, t2)\n",
    "print(\"Numpy is \" + str(t1/t2) + \" times faster in this example!\")"
   ]
  },
  {
   "cell_type": "markdown",
   "metadata": {},
   "source": [
    "## References\n",
    "[1] Coursera Online Course [\"Neural Networks and Deep Learning\"](https://www.coursera.org/learn/neural-networks-deep-learning/) by Andrew Ng\n",
    "\n",
    "\n",
    "[2] K. He, X. Zhang, S. Ren and J. Sun, \"Deep Residual Learning for Image Recognition,\" 2016 IEEE Conference on Computer Vision and Pattern Recognition (CVPR), Las Vegas, NV, 2016, pp. 770-778."
   ]
  }
 ],
 "metadata": {
  "kernelspec": {
   "display_name": "Python 3 (ipykernel)",
   "language": "python",
   "name": "python3"
  },
  "language_info": {
   "codemirror_mode": {
    "name": "ipython",
    "version": 3
   },
   "file_extension": ".py",
   "mimetype": "text/x-python",
   "name": "python",
   "nbconvert_exporter": "python",
   "pygments_lexer": "ipython3",
   "version": "3.7.11"
  }
 },
 "nbformat": 4,
 "nbformat_minor": 4
}
