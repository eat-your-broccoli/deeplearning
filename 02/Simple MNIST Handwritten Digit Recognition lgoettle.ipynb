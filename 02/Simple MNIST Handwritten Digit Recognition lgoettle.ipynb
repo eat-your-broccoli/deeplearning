{
 "cells": [
  {
   "cell_type": "markdown",
   "id": "3a77f264",
   "metadata": {},
   "source": [
    "# Simple MNIST Handwritten Digit Recognition\n",
    "\n",
    "by Luca Göttle 198319 \n",
    "\n",
    "Used Resources:\n",
    "- https://www.youtube.com/watch?v=wQ8BIBpya2k\n",
    "- https://pythonprogramming.net/introduction-deep-learning-python-tensorflow-keras/"
   ]
  },
  {
   "cell_type": "code",
   "execution_count": 1,
   "id": "dd5d0745",
   "metadata": {},
   "outputs": [],
   "source": [
    "import tensorflow as tf \n",
    "import keras as keras\n",
    "import matplotlib.pyplot as plt\n",
    "\n",
    "mnist = tf.keras.datasets.mnist # import mnist dataset\n",
    "\n",
    "(x_train, y_train), (x_test, y_test) = (mnist.load_data()) # and load dataset"
   ]
  },
  {
   "cell_type": "markdown",
   "id": "e60c02a3",
   "metadata": {},
   "source": [
    "## Normalize data"
   ]
  },
  {
   "cell_type": "code",
   "execution_count": 2,
   "id": "17c53a9d",
   "metadata": {},
   "outputs": [],
   "source": [
    "# normalize mnist dataset to improve performance\n",
    "x_train_norm = tf.keras.utils.normalize(x_train, axis=1)\n",
    "x_test_norm = tf.keras.utils.normalize(x_test, axis=1)"
   ]
  },
  {
   "cell_type": "markdown",
   "id": "ebcea58c",
   "metadata": {},
   "source": [
    "## Model builder\n",
    "\n",
    "easily build a model from a dictionary"
   ]
  },
  {
   "cell_type": "code",
   "execution_count": 3,
   "id": "50ddef74",
   "metadata": {},
   "outputs": [],
   "source": [
    "def build_model(model_def):\n",
    "    \"\"\"\n",
    "    Arguments:\n",
    "    model_def: <class 'dict'> ) the model definition\n",
    "        input_layer: <class tf.keras.layers> the input layer\n",
    "        hidden_layers: <list <class tf.keras.layers>> hidden layers\n",
    "        output_layer: <class tf.keras.layers> output layer\n",
    "        optimizer: (string) the optimizer \n",
    "        loss_func: (string) name of the loss function\n",
    "        metrics: (list <string>) metrics to track while training the model \n",
    "    \n",
    "    Returns:\n",
    "    model -- keras model\n",
    "    \"\"\"\n",
    "    model = tf.keras.models.Sequential() # sequential model\n",
    "    model.add(model_def[\"input_layer\"]) # Flatten input layer\n",
    "    for hidden_layer in model_def[\"hidden_layers\"]:\n",
    "        model.add(hidden_layer)\n",
    "    model.add(model_def[\"output_layer\"]) # output layer\n",
    "    model.compile(\n",
    "        optimizer= model_def[\"optimizer\"],\n",
    "        loss= model_def[\"loss_func\"],\n",
    "        metrics= model_def[\"metrics\"]\n",
    "    )\n",
    "\n",
    "    return model\n",
    "    "
   ]
  },
  {
   "cell_type": "markdown",
   "id": "63c7640c",
   "metadata": {},
   "source": [
    "## Train and evaluate models"
   ]
  },
  {
   "cell_type": "code",
   "execution_count": 13,
   "id": "af029fbe",
   "metadata": {},
   "outputs": [],
   "source": [
    "# get the loss, accuracy after every minibatch\n",
    "# solution taken from https://stackoverflow.com/questions/66394598/how-to-get-history-over-one-epoch-after-every-batch\n",
    "class BatchCallback(keras.callbacks.Callback):\n",
    "    batch_accuracy = [] # accuracy at given batch\n",
    "    batch_loss = [] # loss at given batch    \n",
    "    def __init__(self):\n",
    "        super(BatchCallback,self).__init__() \n",
    "        self.batch_accuracy = []\n",
    "        self.batch_loss = []\n",
    "    def on_train_batch_end(self, batch, logs=None):                \n",
    "        self.batch_accuracy.append(logs.get('accuracy'))\n",
    "        self.batch_loss.append(logs.get('loss'))"
   ]
  },
  {
   "cell_type": "code",
   "execution_count": 50,
   "id": "976022e9",
   "metadata": {},
   "outputs": [],
   "source": [
    "def run_model(model, train_x, train_y, test_x, test_y, epochs = 1, batch_size = 32, name = None):\n",
    "    batchCallback = BatchCallback()\n",
    "    history = model.fit(train_x, train_y, verbose=1, epochs=epochs, batch_size=batch_size, callbacks=[batchCallback], validation_data=(test_x, test_y))\n",
    "    \n",
    "    # summarize history for accuracy\n",
    "    if name != None:\n",
    "        plt.title(name)\n",
    "    plt.ylim(0, 1.1)\n",
    "    plt.ylabel('accuracy')\n",
    "    plt.xlabel('batch')\n",
    "    plt.plot(batchCallback.batch_accuracy)\n",
    "    plt.show()\n",
    "    plt.clf()"
   ]
  },
  {
   "cell_type": "markdown",
   "id": "a269c741",
   "metadata": {},
   "source": [
    "## Standard model"
   ]
  },
  {
   "cell_type": "code",
   "execution_count": 54,
   "id": "bb6a7983",
   "metadata": {},
   "outputs": [
    {
     "name": "stdout",
     "output_type": "stream",
     "text": [
      "Epoch 1/2\n",
      "  1/469 [..............................] - ETA: 3:11 - loss: 127.9814 - accuracy: 0.0938WARNING:tensorflow:Callback method `on_train_batch_end` is slow compared to the batch time (batch time: 0.0000s vs `on_train_batch_end` time: 0.0013s). Check your callbacks.\n",
      "469/469 [==============================] - 2s 3ms/step - loss: 2.6974 - accuracy: 0.8687 - val_loss: 0.7147 - val_accuracy: 0.9183\n",
      "Epoch 2/2\n",
      "469/469 [==============================] - 1s 3ms/step - loss: 0.5048 - accuracy: 0.9322 - val_loss: 0.4301 - val_accuracy: 0.9360\n"
     ]
    },
    {
     "data": {
      "image/png": "[encoded data removed]",
      "text/plain": [
       "<Figure size 432x288 with 1 Axes>"
      ]
     },
     "metadata": {
      "needs_background": "light"
     },
     "output_type": "display_data"
    },
    {
     "name": "stdout",
     "output_type": "stream",
     "text": [
      "1875/1875 [==============================] - 4s 2ms/step - loss: 0.2425 - accuracy: 0.9332 - val_loss: 0.1266 - val_accuracy: 0.9608\n"
     ]
    },
    {
     "data": {
      "image/png": "[encoded data removed]",
      "text/plain": [
       "<Figure size 432x288 with 1 Axes>"
      ]
     },
     "metadata": {
      "needs_background": "light"
     },
     "output_type": "display_data"
    },
    {
     "data": {
      "text/plain": [
       "<Figure size 432x288 with 0 Axes>"
      ]
     },
     "metadata": {},
     "output_type": "display_data"
    }
   ],
   "source": [
    "standard_model = {\n",
    "    \"input_layer\": tf.keras.layers.Flatten(),\n",
    "    \"hidden_layers\": [\n",
    "        tf.keras.layers.Dense(128, activation=tf.nn.relu),\n",
    "        tf.keras.layers.Dense(128, activation=tf.nn.relu)\n",
    "    ],\n",
    "    \"output_layer\": tf.keras.layers.Dense(10, activation=tf.nn.softmax),\n",
    "    \"optimizer\": 'adam',\n",
    "    \"loss_func\": 'sparse_categorical_crossentropy',\n",
    "    \"metrics\": ['accuracy']\n",
    "}\n",
    "\n",
    "model_1 = build_model(standard_model)\n",
    "run_model(model_1, x_train, y_train, x_test, y_test, 2, 128, \"Test\")\n",
    "\n",
    "model_2 = build_model(standard_model)\n",
    "run_model(model_2, x_train_norm, y_train, x_test_norm, y_test)\n",
    "\n"
   ]
  },
  {
   "cell_type": "markdown",
   "id": "59994471",
   "metadata": {},
   "source": [
    "## Different Models"
   ]
  },
  {
   "cell_type": "code",
   "execution_count": 7,
   "id": "46da1615",
   "metadata": {},
   "outputs": [],
   "source": [
    "models = [\n",
    "    {\n",
    "        \"name\": \"2 layers, 32 units per layer, relu\",\n",
    "        \"input_layer\": tf.keras.layers.Flatten(),\n",
    "        \"hidden_layers\": [\n",
    "            tf.keras.layers.Dense(32, activation=tf.nn.relu),\n",
    "            tf.keras.layers.Dense(32, activation=tf.nn.relu)\n",
    "        ],\n",
    "        \"output_layer\": tf.keras.layers.Dense(10, activation=tf.nn.softmax),\n",
    "        \"optimizer\": 'adam',\n",
    "        \"loss_func\": 'sparse_categorical_crossentropy',\n",
    "        \"metrics\": ['accuracy'] \n",
    "    },\n",
    "    {\n",
    "        \"name\": \"three layer, decreasing units\",\n",
    "        \"input_layer\": tf.keras.layers.Flatten(),\n",
    "        \"hidden_layers\": [\n",
    "            tf.keras.layers.Dense(128, activation=tf.nn.relu),\n",
    "            tf.keras.layers.Dense(32, activation=tf.nn.relu),\n",
    "            tf.keras.layers.Dense(16, activation=tf.nn.relu)\n",
    "        ],\n",
    "        \"output_layer\": tf.keras.layers.Dense(10, activation=tf.nn.softmax),\n",
    "        \"optimizer\": 'adam',\n",
    "        \"loss_func\": 'sparse_categorical_crossentropy',\n",
    "        \"metrics\": ['accuracy'] \n",
    "    },\n",
    "    {\n",
    "        \"name\": \"three layer, decreasing units\",\n",
    "        \"input_layer\": tf.keras.layers.Flatten(),\n",
    "        \"hidden_layers\": [\n",
    "            tf.keras.layers.Dense(512, activation=tf.nn.relu),\n",
    "            tf.keras.layers.Dense(128, activation=tf.nn.relu),\n",
    "            tf.keras.layers.Dense(64, activation=tf.nn.relu)\n",
    "        ],\n",
    "        \"output_layer\": tf.keras.layers.Dense(10, activation=tf.nn.softmax),\n",
    "        \"optimizer\": 'adam',\n",
    "        \"loss_func\": 'sparse_categorical_crossentropy',\n",
    "        \"metrics\": ['accuracy'] \n",
    "    }\n",
    "]"
   ]
  },
  {
   "cell_type": "code",
   "execution_count": 42,
   "id": "a8782d25",
   "metadata": {},
   "outputs": [
    {
     "name": "stdout",
     "output_type": "stream",
     "text": [
      "1875/1875 [==============================] - 3s 1ms/step - loss: 26.5624 - accuracy: 0.9347\n"
     ]
    },
    {
     "data": {
      "image/png": "[encoded data removed]",
      "text/plain": [
       "<Figure size 432x288 with 1 Axes>"
      ]
     },
     "metadata": {
      "needs_background": "light"
     },
     "output_type": "display_data"
    },
    {
     "name": "stdout",
     "output_type": "stream",
     "text": [
      "1875/1875 [==============================] - 3s 1ms/step - loss: 0.2241 - accuracy: 0.9347\n"
     ]
    },
    {
     "data": {
      "image/png": "[encoded data removed]",
      "text/plain": [
       "<Figure size 432x288 with 1 Axes>"
      ]
     },
     "metadata": {
      "needs_background": "light"
     },
     "output_type": "display_data"
    },
    {
     "name": "stdout",
     "output_type": "stream",
     "text": [
      "1875/1875 [==============================] - 3s 2ms/step - loss: 13.1441 - accuracy: 0.9697\n"
     ]
    },
    {
     "data": {
      "image/png": "[encoded data removed]",
      "text/plain": [
       "<Figure size 432x288 with 1 Axes>"
      ]
     },
     "metadata": {
      "needs_background": "light"
     },
     "output_type": "display_data"
    },
    {
     "name": "stdout",
     "output_type": "stream",
     "text": [
      "1875/1875 [==============================] - 3s 2ms/step - loss: 0.1060 - accuracy: 0.9690\n"
     ]
    },
    {
     "data": {
      "image/png": "[encoded data removed]",
      "text/plain": [
       "<Figure size 432x288 with 1 Axes>"
      ]
     },
     "metadata": {
      "needs_background": "light"
     },
     "output_type": "display_data"
    },
    {
     "name": "stdout",
     "output_type": "stream",
     "text": [
      "1875/1875 [==============================] - 6s 3ms/step - loss: 3.5920 - accuracy: 0.9861\n"
     ]
    },
    {
     "data": {
      "image/png": "[encoded data removed]",
      "text/plain": [
       "<Figure size 432x288 with 1 Axes>"
      ]
     },
     "metadata": {
      "needs_background": "light"
     },
     "output_type": "display_data"
    },
    {
     "name": "stdout",
     "output_type": "stream",
     "text": [
      "1875/1875 [==============================] - 6s 3ms/step - loss: 0.0560 - accuracy: 0.9834\n"
     ]
    },
    {
     "data": {
      "image/png": "[encoded data removed]",
      "text/plain": [
       "<Figure size 432x288 with 1 Axes>"
      ]
     },
     "metadata": {
      "needs_background": "light"
     },
     "output_type": "display_data"
    },
    {
     "data": {
      "text/plain": [
       "<Figure size 432x288 with 0 Axes>"
      ]
     },
     "metadata": {},
     "output_type": "display_data"
    }
   ],
   "source": [
    "for model_def in models:\n",
    "    mod_1 = build_model(model_def)\n",
    "    mod_2 = build_model(model_def)\n",
    "    run_model(mod_1, x_train, y_train, x_test, y_test)\n",
    "    run_model(mod_2, x_train_norm, y_train, x_test_norm, y_test)\n",
    "    "
   ]
  },
  {
   "cell_type": "code",
   "execution_count": null,
   "id": "ae29c458",
   "metadata": {},
   "outputs": [],
   "source": []
  },
  {
   "cell_type": "code",
   "execution_count": null,
   "id": "605aacdd",
   "metadata": {},
   "outputs": [],
   "source": []
  }
 ],
 "metadata": {
  "kernelspec": {
   "display_name": "Python 3 (ipykernel)",
   "language": "python",
   "name": "python3"
  },
  "language_info": {
   "codemirror_mode": {
    "name": "ipython",
    "version": 3
   },
   "file_extension": ".py",
   "mimetype": "text/x-python",
   "name": "python",
   "nbconvert_exporter": "python",
   "pygments_lexer": "ipython3",
   "version": "3.7.11"
  }
 },
 "nbformat": 4,
 "nbformat_minor": 5
}
